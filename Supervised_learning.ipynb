{
 "cells": [
  {
   "cell_type": "markdown",
   "metadata": {},
   "source": [
    "# Отток клиентов"
   ]
  },
  {
   "cell_type": "markdown",
   "metadata": {},
   "source": [
    "Из «Бета-Банка» стали уходить клиенты. Каждый месяц. Немного, но заметно. Банковские маркетологи посчитали: сохранять текущих клиентов дешевле, чем привлекать новых.\n",
    "\n",
    "Нужно спрогнозировать, уйдёт клиент из банка в ближайшее время или нет. Вам предоставлены исторические данные о поведении клиентов и расторжении договоров с банком. \n",
    "\n",
    "Постройте модель с предельно большим значением *F1*-меры. Чтобы сдать проект успешно, нужно довести метрику до 0.59. Проверьте *F1*-меру на тестовой выборке самостоятельно.\n",
    "\n",
    "Дополнительно измеряйте *AUC-ROC*, сравнивайте её значение с *F1*-мерой.\n",
    "\n",
    "Источник данных: [https://www.kaggle.com/barelydedicated/bank-customer-churn-modeling](https://www.kaggle.com/barelydedicated/bank-customer-churn-modeling)"
   ]
  },
  {
   "cell_type": "markdown",
   "metadata": {},
   "source": [
    "## Подготовка данных"
   ]
  },
  {
   "cell_type": "markdown",
   "metadata": {},
   "source": [
    "Нам необходимо построить модель оттока клиентов. Набор данных о клиентах содержит следующие поля:\n",
    "\n",
    "Признаки:\n",
    "- `RowNumber` — индекс строки в данных\n",
    "- `CustomerId` — уникальный идентификатор клиента\n",
    "- `Surname` — фамилия\n",
    "- `CreditScore` — кредитный рейтинг\n",
    "- `Geography` — страна проживания\n",
    "- `Gender` — пол\n",
    "- `Age` — возраст\n",
    "- `Tenure` — сколько лет человек является клиентом банка\n",
    "- `Balance` — баланс на счёте\n",
    "- `NumOfProducts` — количество продуктов банка, используемых клиентом\n",
    "- `HasCrCard` — наличие кредитной карты\n",
    "- `IsActiveMember` — активность клиента\n",
    "- `EstimatedSalary` — предполагаемая зарплата\n",
    "\n",
    "Целевой признак\n",
    "- `Exited` — факт ухода клиента\n"
   ]
  },
  {
   "cell_type": "code",
   "execution_count": 1,
   "metadata": {},
   "outputs": [],
   "source": [
    "import pandas as pd\n",
    "import numpy as np\n",
    "import matplotlib.pyplot as plt\n",
    "\n",
    "from sklearn.model_selection import train_test_split\n",
    "from sklearn.preprocessing import StandardScaler\n",
    "\n",
    "from sklearn.tree import DecisionTreeClassifier\n",
    "from sklearn.linear_model import LogisticRegression\n",
    "from sklearn.ensemble import RandomForestClassifier\n",
    "\n",
    "from sklearn.metrics import mean_absolute_error\n",
    "from sklearn.metrics import f1_score\n",
    "from sklearn.metrics import roc_curve\n",
    "from sklearn.metrics import roc_auc_score\n",
    "from sklearn.metrics import mean_squared_error\n",
    "from sklearn.metrics import r2_score\n",
    "from sklearn.metrics import accuracy_score\n",
    "from sklearn.metrics import confusion_matrix\n",
    "from sklearn.metrics import recall_score\n",
    "from sklearn.metrics import precision_score\n",
    "\n",
    "from sklearn.utils import shuffle\n"
   ]
  },
  {
   "cell_type": "code",
   "execution_count": 2,
   "metadata": {},
   "outputs": [],
   "source": [
    "data = pd.read_csv('Churn.csv')"
   ]
  },
  {
   "cell_type": "code",
   "execution_count": 3,
   "metadata": {},
   "outputs": [
    {
     "name": "stdout",
     "output_type": "stream",
     "text": [
      "<class 'pandas.core.frame.DataFrame'>\n",
      "RangeIndex: 10000 entries, 0 to 9999\n",
      "Data columns (total 14 columns):\n",
      " #   Column           Non-Null Count  Dtype  \n",
      "---  ------           --------------  -----  \n",
      " 0   RowNumber        10000 non-null  int64  \n",
      " 1   CustomerId       10000 non-null  int64  \n",
      " 2   Surname          10000 non-null  object \n",
      " 3   CreditScore      10000 non-null  int64  \n",
      " 4   Geography        10000 non-null  object \n",
      " 5   Gender           10000 non-null  object \n",
      " 6   Age              10000 non-null  int64  \n",
      " 7   Tenure           9091 non-null   float64\n",
      " 8   Balance          10000 non-null  float64\n",
      " 9   NumOfProducts    10000 non-null  int64  \n",
      " 10  HasCrCard        10000 non-null  int64  \n",
      " 11  IsActiveMember   10000 non-null  int64  \n",
      " 12  EstimatedSalary  10000 non-null  float64\n",
      " 13  Exited           10000 non-null  int64  \n",
      "dtypes: float64(3), int64(8), object(3)\n",
      "memory usage: 1.1+ MB\n"
     ]
    }
   ],
   "source": [
    "data.info()"
   ]
  },
  {
   "cell_type": "code",
   "execution_count": 4,
   "metadata": {},
   "outputs": [
    {
     "data": {
      "text/html": [
       "<div>\n",
       "<style scoped>\n",
       "    .dataframe tbody tr th:only-of-type {\n",
       "        vertical-align: middle;\n",
       "    }\n",
       "\n",
       "    .dataframe tbody tr th {\n",
       "        vertical-align: top;\n",
       "    }\n",
       "\n",
       "    .dataframe thead th {\n",
       "        text-align: right;\n",
       "    }\n",
       "</style>\n",
       "<table border=\"1\" class=\"dataframe\">\n",
       "  <thead>\n",
       "    <tr style=\"text-align: right;\">\n",
       "      <th></th>\n",
       "      <th>RowNumber</th>\n",
       "      <th>CustomerId</th>\n",
       "      <th>Surname</th>\n",
       "      <th>CreditScore</th>\n",
       "      <th>Geography</th>\n",
       "      <th>Gender</th>\n",
       "      <th>Age</th>\n",
       "      <th>Tenure</th>\n",
       "      <th>Balance</th>\n",
       "      <th>NumOfProducts</th>\n",
       "      <th>HasCrCard</th>\n",
       "      <th>IsActiveMember</th>\n",
       "      <th>EstimatedSalary</th>\n",
       "      <th>Exited</th>\n",
       "    </tr>\n",
       "  </thead>\n",
       "  <tbody>\n",
       "    <tr>\n",
       "      <th>0</th>\n",
       "      <td>1</td>\n",
       "      <td>15634602</td>\n",
       "      <td>Hargrave</td>\n",
       "      <td>619</td>\n",
       "      <td>France</td>\n",
       "      <td>Female</td>\n",
       "      <td>42</td>\n",
       "      <td>2.0</td>\n",
       "      <td>0.00</td>\n",
       "      <td>1</td>\n",
       "      <td>1</td>\n",
       "      <td>1</td>\n",
       "      <td>101348.88</td>\n",
       "      <td>1</td>\n",
       "    </tr>\n",
       "    <tr>\n",
       "      <th>1</th>\n",
       "      <td>2</td>\n",
       "      <td>15647311</td>\n",
       "      <td>Hill</td>\n",
       "      <td>608</td>\n",
       "      <td>Spain</td>\n",
       "      <td>Female</td>\n",
       "      <td>41</td>\n",
       "      <td>1.0</td>\n",
       "      <td>83807.86</td>\n",
       "      <td>1</td>\n",
       "      <td>0</td>\n",
       "      <td>1</td>\n",
       "      <td>112542.58</td>\n",
       "      <td>0</td>\n",
       "    </tr>\n",
       "    <tr>\n",
       "      <th>2</th>\n",
       "      <td>3</td>\n",
       "      <td>15619304</td>\n",
       "      <td>Onio</td>\n",
       "      <td>502</td>\n",
       "      <td>France</td>\n",
       "      <td>Female</td>\n",
       "      <td>42</td>\n",
       "      <td>8.0</td>\n",
       "      <td>159660.80</td>\n",
       "      <td>3</td>\n",
       "      <td>1</td>\n",
       "      <td>0</td>\n",
       "      <td>113931.57</td>\n",
       "      <td>1</td>\n",
       "    </tr>\n",
       "    <tr>\n",
       "      <th>3</th>\n",
       "      <td>4</td>\n",
       "      <td>15701354</td>\n",
       "      <td>Boni</td>\n",
       "      <td>699</td>\n",
       "      <td>France</td>\n",
       "      <td>Female</td>\n",
       "      <td>39</td>\n",
       "      <td>1.0</td>\n",
       "      <td>0.00</td>\n",
       "      <td>2</td>\n",
       "      <td>0</td>\n",
       "      <td>0</td>\n",
       "      <td>93826.63</td>\n",
       "      <td>0</td>\n",
       "    </tr>\n",
       "    <tr>\n",
       "      <th>4</th>\n",
       "      <td>5</td>\n",
       "      <td>15737888</td>\n",
       "      <td>Mitchell</td>\n",
       "      <td>850</td>\n",
       "      <td>Spain</td>\n",
       "      <td>Female</td>\n",
       "      <td>43</td>\n",
       "      <td>2.0</td>\n",
       "      <td>125510.82</td>\n",
       "      <td>1</td>\n",
       "      <td>1</td>\n",
       "      <td>1</td>\n",
       "      <td>79084.10</td>\n",
       "      <td>0</td>\n",
       "    </tr>\n",
       "  </tbody>\n",
       "</table>\n",
       "</div>"
      ],
      "text/plain": [
       "   RowNumber  CustomerId   Surname  CreditScore Geography  Gender  Age  \\\n",
       "0          1    15634602  Hargrave          619    France  Female   42   \n",
       "1          2    15647311      Hill          608     Spain  Female   41   \n",
       "2          3    15619304      Onio          502    France  Female   42   \n",
       "3          4    15701354      Boni          699    France  Female   39   \n",
       "4          5    15737888  Mitchell          850     Spain  Female   43   \n",
       "\n",
       "   Tenure    Balance  NumOfProducts  HasCrCard  IsActiveMember  \\\n",
       "0     2.0       0.00              1          1               1   \n",
       "1     1.0   83807.86              1          0               1   \n",
       "2     8.0  159660.80              3          1               0   \n",
       "3     1.0       0.00              2          0               0   \n",
       "4     2.0  125510.82              1          1               1   \n",
       "\n",
       "   EstimatedSalary  Exited  \n",
       "0        101348.88       1  \n",
       "1        112542.58       0  \n",
       "2        113931.57       1  \n",
       "3         93826.63       0  \n",
       "4         79084.10       0  "
      ]
     },
     "execution_count": 4,
     "metadata": {},
     "output_type": "execute_result"
    }
   ],
   "source": [
    "data.head()"
   ]
  },
  {
   "cell_type": "markdown",
   "metadata": {},
   "source": [
    "Исследуем данные каждого столбца. Посмотрим количество уникальных значений, сравним имеющиеся значения с типом данных, который присвоен при загрузке, определим категориальные параметры, которые необходимо преобразовать по методологии *One-Hot Encoding*. Также определим, какие параметры будут мешать построению моделей."
   ]
  },
  {
   "cell_type": "code",
   "execution_count": 5,
   "metadata": {},
   "outputs": [
    {
     "data": {
      "text/plain": [
       "10000"
      ]
     },
     "execution_count": 5,
     "metadata": {},
     "output_type": "execute_result"
    }
   ],
   "source": [
    "data['CustomerId'].nunique()"
   ]
  },
  {
   "cell_type": "markdown",
   "metadata": {},
   "source": [
    "Т.е. все объекты уникальные."
   ]
  },
  {
   "cell_type": "code",
   "execution_count": 6,
   "metadata": {},
   "outputs": [
    {
     "data": {
      "text/plain": [
       "3"
      ]
     },
     "execution_count": 6,
     "metadata": {},
     "output_type": "execute_result"
    }
   ],
   "source": [
    "data['Geography'].nunique()"
   ]
  },
  {
   "cell_type": "code",
   "execution_count": 7,
   "metadata": {},
   "outputs": [
    {
     "data": {
      "text/plain": [
       "[0.0, 1.0, 2.0, 3.0, 4.0, 5.0, 6.0, 7.0, 8.0, 9.0, 10.0, nan]"
      ]
     },
     "execution_count": 7,
     "metadata": {},
     "output_type": "execute_result"
    }
   ],
   "source": [
    "sorted(data['Tenure'].unique())"
   ]
  },
  {
   "cell_type": "code",
   "execution_count": 8,
   "metadata": {},
   "outputs": [
    {
     "data": {
      "text/plain": [
       "909"
      ]
     },
     "execution_count": 8,
     "metadata": {},
     "output_type": "execute_result"
    }
   ],
   "source": [
    "data['Tenure'].isna().sum()"
   ]
  },
  {
   "cell_type": "markdown",
   "metadata": {},
   "source": [
    "Признак \"сколько лет человек является клиентом банка\" содержит только целочисленные значения. Еще есть 909 объектов с отсутствующей информацией о продолжительности сотрудничества с Клиентом. Данный показатель является одним из ключевых. Восстановить его по другим данным не представляется возможным. Возможны два варианта.\n",
    "1. удалить объекты, где не известно время, в течение которого клиент сотрудничал с Банком\n",
    "2. заполнить пропущенные значения случайными числами\n",
    "\n",
    "Поскольку пропущенных значений почти 10% от всех данных, лучше сделать замену на случайные числа, чтобы не потерять остальные данные, которые хорошо бы учитывать при построении моделей."
   ]
  },
  {
   "cell_type": "code",
   "execution_count": 9,
   "metadata": {},
   "outputs": [],
   "source": [
    "np.random.seed()"
   ]
  },
  {
   "cell_type": "code",
   "execution_count": 10,
   "metadata": {},
   "outputs": [],
   "source": [
    "data['Tenure'] = data['Tenure'].apply(lambda l: l if not np.isnan(l) else np.random.randint(10))"
   ]
  },
  {
   "cell_type": "code",
   "execution_count": 11,
   "metadata": {},
   "outputs": [
    {
     "data": {
      "text/plain": [
       "[0.0, 1.0, 2.0, 3.0, 4.0, 5.0, 6.0, 7.0, 8.0, 9.0, 10.0]"
      ]
     },
     "execution_count": 11,
     "metadata": {},
     "output_type": "execute_result"
    }
   ],
   "source": [
    "sorted(data['Tenure'].unique())"
   ]
  },
  {
   "cell_type": "code",
   "execution_count": 12,
   "metadata": {},
   "outputs": [],
   "source": [
    "data['Tenure'] =  data['Tenure'].astype(int)"
   ]
  },
  {
   "cell_type": "code",
   "execution_count": 13,
   "metadata": {},
   "outputs": [
    {
     "data": {
      "text/plain": [
       "[0, 1, 2, 3, 4, 5, 6, 7, 8, 9, 10]"
      ]
     },
     "execution_count": 13,
     "metadata": {},
     "output_type": "execute_result"
    }
   ],
   "source": [
    "sorted(data['Tenure'].unique())"
   ]
  },
  {
   "cell_type": "code",
   "execution_count": 14,
   "metadata": {},
   "outputs": [
    {
     "name": "stdout",
     "output_type": "stream",
     "text": [
      "<class 'pandas.core.frame.DataFrame'>\n",
      "RangeIndex: 10000 entries, 0 to 9999\n",
      "Data columns (total 14 columns):\n",
      " #   Column           Non-Null Count  Dtype  \n",
      "---  ------           --------------  -----  \n",
      " 0   RowNumber        10000 non-null  int64  \n",
      " 1   CustomerId       10000 non-null  int64  \n",
      " 2   Surname          10000 non-null  object \n",
      " 3   CreditScore      10000 non-null  int64  \n",
      " 4   Geography        10000 non-null  object \n",
      " 5   Gender           10000 non-null  object \n",
      " 6   Age              10000 non-null  int64  \n",
      " 7   Tenure           10000 non-null  int32  \n",
      " 8   Balance          10000 non-null  float64\n",
      " 9   NumOfProducts    10000 non-null  int64  \n",
      " 10  HasCrCard        10000 non-null  int64  \n",
      " 11  IsActiveMember   10000 non-null  int64  \n",
      " 12  EstimatedSalary  10000 non-null  float64\n",
      " 13  Exited           10000 non-null  int64  \n",
      "dtypes: float64(2), int32(1), int64(8), object(3)\n",
      "memory usage: 1.0+ MB\n"
     ]
    }
   ],
   "source": [
    "data.info()"
   ]
  },
  {
   "cell_type": "code",
   "execution_count": 15,
   "metadata": {},
   "outputs": [
    {
     "data": {
      "text/plain": [
       "array([1, 0], dtype=int64)"
      ]
     },
     "execution_count": 15,
     "metadata": {},
     "output_type": "execute_result"
    }
   ],
   "source": [
    "data['HasCrCard'].unique()"
   ]
  },
  {
   "cell_type": "code",
   "execution_count": 16,
   "metadata": {},
   "outputs": [
    {
     "data": {
      "text/plain": [
       "array([1, 0], dtype=int64)"
      ]
     },
     "execution_count": 16,
     "metadata": {},
     "output_type": "execute_result"
    }
   ],
   "source": [
    "data['IsActiveMember'].unique()"
   ]
  },
  {
   "cell_type": "code",
   "execution_count": 17,
   "metadata": {},
   "outputs": [
    {
     "data": {
      "text/plain": [
       "array([1, 0], dtype=int64)"
      ]
     },
     "execution_count": 17,
     "metadata": {},
     "output_type": "execute_result"
    }
   ],
   "source": [
    "data['Exited'].unique()"
   ]
  },
  {
   "cell_type": "markdown",
   "metadata": {},
   "source": [
    "Для целей дальнейшего обучения первые три столбца набора данных лишние, это:\n",
    " - `RowNumber` — индекс строки в данных\n",
    " - `CustomerId` — уникальный идентификатор клиента\n",
    " - `Surname` — фамилия\n",
    " Чтобы эти параметры не мешали при обучении модели, удалим их в целевом наборе данных"
   ]
  },
  {
   "cell_type": "code",
   "execution_count": 18,
   "metadata": {},
   "outputs": [],
   "source": [
    "data_ohe = data.drop(['RowNumber', 'CustomerId', 'Surname'], axis=1)"
   ]
  },
  {
   "cell_type": "markdown",
   "metadata": {},
   "source": [
    "Параметры `Geography` и `Gender` являются категориальными. Поэтому для них создадим для каждого из этих признаков *One-Hot Encoding*, при этом будем обходить \"дамми-ловушку\"."
   ]
  },
  {
   "cell_type": "code",
   "execution_count": 19,
   "metadata": {},
   "outputs": [],
   "source": [
    "data_ohe = pd.get_dummies(data_ohe, drop_first=True)"
   ]
  },
  {
   "cell_type": "code",
   "execution_count": 20,
   "metadata": {
    "scrolled": true
   },
   "outputs": [
    {
     "name": "stdout",
     "output_type": "stream",
     "text": [
      "<class 'pandas.core.frame.DataFrame'>\n",
      "RangeIndex: 10000 entries, 0 to 9999\n",
      "Data columns (total 12 columns):\n",
      " #   Column             Non-Null Count  Dtype  \n",
      "---  ------             --------------  -----  \n",
      " 0   CreditScore        10000 non-null  int64  \n",
      " 1   Age                10000 non-null  int64  \n",
      " 2   Tenure             10000 non-null  int32  \n",
      " 3   Balance            10000 non-null  float64\n",
      " 4   NumOfProducts      10000 non-null  int64  \n",
      " 5   HasCrCard          10000 non-null  int64  \n",
      " 6   IsActiveMember     10000 non-null  int64  \n",
      " 7   EstimatedSalary    10000 non-null  float64\n",
      " 8   Exited             10000 non-null  int64  \n",
      " 9   Geography_Germany  10000 non-null  uint8  \n",
      " 10  Geography_Spain    10000 non-null  uint8  \n",
      " 11  Gender_Male        10000 non-null  uint8  \n",
      "dtypes: float64(2), int32(1), int64(6), uint8(3)\n",
      "memory usage: 693.5 KB\n"
     ]
    }
   ],
   "source": [
    "data_ohe.info()"
   ]
  },
  {
   "cell_type": "markdown",
   "metadata": {},
   "source": [
    "### Spliting data\n",
    "\n",
    "Целевым признаком является столбец `Exited` — факт ухода клиента. Остальные столбцы являются признаками.\n",
    "Разделим исходный набор данных на обучающий набор, валидационный и тестовый в отношении 60%, 20% и 20%"
   ]
  },
  {
   "cell_type": "code",
   "execution_count": 21,
   "metadata": {},
   "outputs": [],
   "source": [
    "target = data_ohe['Exited']"
   ]
  },
  {
   "cell_type": "code",
   "execution_count": 22,
   "metadata": {},
   "outputs": [],
   "source": [
    "features = data_ohe.drop('Exited', axis=1)"
   ]
  },
  {
   "cell_type": "code",
   "execution_count": 23,
   "metadata": {},
   "outputs": [],
   "source": [
    "features_train, features_test, target_train, target_test = \\\n",
    "                                 train_test_split(features, target, test_size=0.4, random_state=12345)"
   ]
  },
  {
   "cell_type": "code",
   "execution_count": 24,
   "metadata": {},
   "outputs": [],
   "source": [
    "features_test, features_valid, target_test, target_valid = \\\n",
    "                                 train_test_split(features_test, target_test, test_size=0.5, random_state=12345)"
   ]
  },
  {
   "cell_type": "markdown",
   "metadata": {},
   "source": [
    "### Data normalization\n",
    "\n",
    "To avoid excessive influence of numerical variables on the modelling results, we'll normalize this data"
   ]
  },
  {
   "cell_type": "code",
   "execution_count": 25,
   "metadata": {},
   "outputs": [],
   "source": [
    "scaler = StandardScaler()"
   ]
  },
  {
   "cell_type": "code",
   "execution_count": 26,
   "metadata": {},
   "outputs": [],
   "source": [
    "numeric=['CreditScore','Age', 'Tenure', 'Balance', 'EstimatedSalary']"
   ]
  },
  {
   "cell_type": "code",
   "execution_count": 27,
   "metadata": {},
   "outputs": [
    {
     "data": {
      "text/plain": [
       "StandardScaler()"
      ]
     },
     "execution_count": 27,
     "metadata": {},
     "output_type": "execute_result"
    }
   ],
   "source": [
    "scaler.fit(features_train[numeric])"
   ]
  },
  {
   "cell_type": "code",
   "execution_count": 28,
   "metadata": {},
   "outputs": [],
   "source": [
    "features_train[numeric] = scaler.transform(features_train[numeric])"
   ]
  },
  {
   "cell_type": "code",
   "execution_count": 29,
   "metadata": {},
   "outputs": [],
   "source": [
    "features_test[numeric] = scaler.transform(features_test[numeric])"
   ]
  },
  {
   "cell_type": "code",
   "execution_count": 30,
   "metadata": {},
   "outputs": [],
   "source": [
    "features_valid[numeric] = scaler.transform(features_valid[numeric])"
   ]
  },
  {
   "cell_type": "code",
   "execution_count": 31,
   "metadata": {},
   "outputs": [
    {
     "data": {
      "text/html": [
       "<div>\n",
       "<style scoped>\n",
       "    .dataframe tbody tr th:only-of-type {\n",
       "        vertical-align: middle;\n",
       "    }\n",
       "\n",
       "    .dataframe tbody tr th {\n",
       "        vertical-align: top;\n",
       "    }\n",
       "\n",
       "    .dataframe thead th {\n",
       "        text-align: right;\n",
       "    }\n",
       "</style>\n",
       "<table border=\"1\" class=\"dataframe\">\n",
       "  <thead>\n",
       "    <tr style=\"text-align: right;\">\n",
       "      <th></th>\n",
       "      <th>CreditScore</th>\n",
       "      <th>Age</th>\n",
       "      <th>Tenure</th>\n",
       "      <th>Balance</th>\n",
       "      <th>EstimatedSalary</th>\n",
       "    </tr>\n",
       "  </thead>\n",
       "  <tbody>\n",
       "    <tr>\n",
       "      <th>7479</th>\n",
       "      <td>-0.886751</td>\n",
       "      <td>-0.373192</td>\n",
       "      <td>1.042635</td>\n",
       "      <td>1.232271</td>\n",
       "      <td>-0.187705</td>\n",
       "    </tr>\n",
       "    <tr>\n",
       "      <th>3411</th>\n",
       "      <td>0.608663</td>\n",
       "      <td>-0.183385</td>\n",
       "      <td>1.042635</td>\n",
       "      <td>0.600563</td>\n",
       "      <td>-0.333945</td>\n",
       "    </tr>\n",
       "    <tr>\n",
       "      <th>6027</th>\n",
       "      <td>2.052152</td>\n",
       "      <td>0.480939</td>\n",
       "      <td>-0.689029</td>\n",
       "      <td>1.027098</td>\n",
       "      <td>1.503095</td>\n",
       "    </tr>\n",
       "    <tr>\n",
       "      <th>1247</th>\n",
       "      <td>-1.457915</td>\n",
       "      <td>-1.417129</td>\n",
       "      <td>0.349969</td>\n",
       "      <td>-1.233163</td>\n",
       "      <td>-1.071061</td>\n",
       "    </tr>\n",
       "    <tr>\n",
       "      <th>3716</th>\n",
       "      <td>0.130961</td>\n",
       "      <td>-1.132419</td>\n",
       "      <td>-1.035362</td>\n",
       "      <td>1.140475</td>\n",
       "      <td>1.524268</td>\n",
       "    </tr>\n",
       "  </tbody>\n",
       "</table>\n",
       "</div>"
      ],
      "text/plain": [
       "      CreditScore       Age    Tenure   Balance  EstimatedSalary\n",
       "7479    -0.886751 -0.373192  1.042635  1.232271        -0.187705\n",
       "3411     0.608663 -0.183385  1.042635  0.600563        -0.333945\n",
       "6027     2.052152  0.480939 -0.689029  1.027098         1.503095\n",
       "1247    -1.457915 -1.417129  0.349969 -1.233163        -1.071061\n",
       "3716     0.130961 -1.132419 -1.035362  1.140475         1.524268"
      ]
     },
     "execution_count": 31,
     "metadata": {},
     "output_type": "execute_result"
    }
   ],
   "source": [
    "features_train[numeric].head()"
   ]
  },
  {
   "cell_type": "code",
   "execution_count": 32,
   "metadata": {},
   "outputs": [
    {
     "data": {
      "text/html": [
       "<div>\n",
       "<style scoped>\n",
       "    .dataframe tbody tr th:only-of-type {\n",
       "        vertical-align: middle;\n",
       "    }\n",
       "\n",
       "    .dataframe tbody tr th {\n",
       "        vertical-align: top;\n",
       "    }\n",
       "\n",
       "    .dataframe thead th {\n",
       "        text-align: right;\n",
       "    }\n",
       "</style>\n",
       "<table border=\"1\" class=\"dataframe\">\n",
       "  <thead>\n",
       "    <tr style=\"text-align: right;\">\n",
       "      <th></th>\n",
       "      <th>CreditScore</th>\n",
       "      <th>Age</th>\n",
       "      <th>Tenure</th>\n",
       "      <th>Balance</th>\n",
       "      <th>EstimatedSalary</th>\n",
       "    </tr>\n",
       "  </thead>\n",
       "  <tbody>\n",
       "    <tr>\n",
       "      <th>8532</th>\n",
       "      <td>-0.699824</td>\n",
       "      <td>-0.373192</td>\n",
       "      <td>-1.035362</td>\n",
       "      <td>-1.233163</td>\n",
       "      <td>-0.015173</td>\n",
       "    </tr>\n",
       "    <tr>\n",
       "      <th>5799</th>\n",
       "      <td>-0.284431</td>\n",
       "      <td>0.575842</td>\n",
       "      <td>-0.689029</td>\n",
       "      <td>-1.233163</td>\n",
       "      <td>1.471724</td>\n",
       "    </tr>\n",
       "    <tr>\n",
       "      <th>5511</th>\n",
       "      <td>0.151731</td>\n",
       "      <td>-0.657902</td>\n",
       "      <td>-1.728028</td>\n",
       "      <td>0.438711</td>\n",
       "      <td>-1.367107</td>\n",
       "    </tr>\n",
       "    <tr>\n",
       "      <th>7365</th>\n",
       "      <td>-0.876366</td>\n",
       "      <td>-0.278288</td>\n",
       "      <td>1.735301</td>\n",
       "      <td>1.239884</td>\n",
       "      <td>-0.786517</td>\n",
       "    </tr>\n",
       "    <tr>\n",
       "      <th>7367</th>\n",
       "      <td>-0.481743</td>\n",
       "      <td>0.291132</td>\n",
       "      <td>1.735301</td>\n",
       "      <td>-1.233163</td>\n",
       "      <td>1.358533</td>\n",
       "    </tr>\n",
       "  </tbody>\n",
       "</table>\n",
       "</div>"
      ],
      "text/plain": [
       "      CreditScore       Age    Tenure   Balance  EstimatedSalary\n",
       "8532    -0.699824 -0.373192 -1.035362 -1.233163        -0.015173\n",
       "5799    -0.284431  0.575842 -0.689029 -1.233163         1.471724\n",
       "5511     0.151731 -0.657902 -1.728028  0.438711        -1.367107\n",
       "7365    -0.876366 -0.278288  1.735301  1.239884        -0.786517\n",
       "7367    -0.481743  0.291132  1.735301 -1.233163         1.358533"
      ]
     },
     "execution_count": 32,
     "metadata": {},
     "output_type": "execute_result"
    }
   ],
   "source": [
    "features_test[numeric].head()"
   ]
  },
  {
   "cell_type": "code",
   "execution_count": 33,
   "metadata": {},
   "outputs": [
    {
     "data": {
      "text/html": [
       "<div>\n",
       "<style scoped>\n",
       "    .dataframe tbody tr th:only-of-type {\n",
       "        vertical-align: middle;\n",
       "    }\n",
       "\n",
       "    .dataframe tbody tr th {\n",
       "        vertical-align: top;\n",
       "    }\n",
       "\n",
       "    .dataframe thead th {\n",
       "        text-align: right;\n",
       "    }\n",
       "</style>\n",
       "<table border=\"1\" class=\"dataframe\">\n",
       "  <thead>\n",
       "    <tr style=\"text-align: right;\">\n",
       "      <th></th>\n",
       "      <th>CreditScore</th>\n",
       "      <th>Age</th>\n",
       "      <th>Tenure</th>\n",
       "      <th>Balance</th>\n",
       "      <th>EstimatedSalary</th>\n",
       "    </tr>\n",
       "  </thead>\n",
       "  <tbody>\n",
       "    <tr>\n",
       "      <th>7041</th>\n",
       "      <td>-2.226392</td>\n",
       "      <td>-0.088482</td>\n",
       "      <td>-1.035362</td>\n",
       "      <td>-1.233163</td>\n",
       "      <td>0.647083</td>\n",
       "    </tr>\n",
       "    <tr>\n",
       "      <th>5709</th>\n",
       "      <td>-0.087120</td>\n",
       "      <td>0.006422</td>\n",
       "      <td>1.388968</td>\n",
       "      <td>-1.233163</td>\n",
       "      <td>-1.658410</td>\n",
       "    </tr>\n",
       "    <tr>\n",
       "      <th>7117</th>\n",
       "      <td>-0.917905</td>\n",
       "      <td>-0.752805</td>\n",
       "      <td>0.003636</td>\n",
       "      <td>0.722307</td>\n",
       "      <td>-1.369334</td>\n",
       "    </tr>\n",
       "    <tr>\n",
       "      <th>7775</th>\n",
       "      <td>-0.253277</td>\n",
       "      <td>0.101325</td>\n",
       "      <td>1.735301</td>\n",
       "      <td>-1.233163</td>\n",
       "      <td>0.075086</td>\n",
       "    </tr>\n",
       "    <tr>\n",
       "      <th>8735</th>\n",
       "      <td>0.785204</td>\n",
       "      <td>-0.847708</td>\n",
       "      <td>1.735301</td>\n",
       "      <td>0.615625</td>\n",
       "      <td>-1.070919</td>\n",
       "    </tr>\n",
       "  </tbody>\n",
       "</table>\n",
       "</div>"
      ],
      "text/plain": [
       "      CreditScore       Age    Tenure   Balance  EstimatedSalary\n",
       "7041    -2.226392 -0.088482 -1.035362 -1.233163         0.647083\n",
       "5709    -0.087120  0.006422  1.388968 -1.233163        -1.658410\n",
       "7117    -0.917905 -0.752805  0.003636  0.722307        -1.369334\n",
       "7775    -0.253277  0.101325  1.735301 -1.233163         0.075086\n",
       "8735     0.785204 -0.847708  1.735301  0.615625        -1.070919"
      ]
     },
     "execution_count": 33,
     "metadata": {},
     "output_type": "execute_result"
    }
   ],
   "source": [
    "features_valid[numeric].head()"
   ]
  },
  {
   "cell_type": "markdown",
   "metadata": {},
   "source": [
    "Были подготовлены данные для дальнейшего исследования на различных моделях. В нашем распоряжении есть набор данных для обучения, для валидации обученных моделей и для финального тестирования полученной модели."
   ]
  },
  {
   "cell_type": "markdown",
   "metadata": {},
   "source": [
    "## Исследование задачи"
   ]
  },
  {
   "cell_type": "markdown",
   "metadata": {},
   "source": [
    "В данном разделе исследуем модели на имеющихся данных\n",
    "\n",
    "### Логистическая регрессия"
   ]
  },
  {
   "cell_type": "code",
   "execution_count": 34,
   "metadata": {},
   "outputs": [],
   "source": [
    "model = LogisticRegression(solver='liblinear' ,random_state=12345)"
   ]
  },
  {
   "cell_type": "code",
   "execution_count": 35,
   "metadata": {},
   "outputs": [
    {
     "data": {
      "text/plain": [
       "LogisticRegression(random_state=12345, solver='liblinear')"
      ]
     },
     "execution_count": 35,
     "metadata": {},
     "output_type": "execute_result"
    }
   ],
   "source": [
    "model.fit(features_train, target_train)"
   ]
  },
  {
   "cell_type": "code",
   "execution_count": 36,
   "metadata": {},
   "outputs": [],
   "source": [
    "predict_valid = model.predict(features_valid)"
   ]
  },
  {
   "cell_type": "code",
   "execution_count": 37,
   "metadata": {},
   "outputs": [
    {
     "data": {
      "text/plain": [
       "0.2777777777777778"
      ]
     },
     "execution_count": 37,
     "metadata": {},
     "output_type": "execute_result"
    }
   ],
   "source": [
    "f1_score(predict_valid, target_valid)"
   ]
  },
  {
   "cell_type": "markdown",
   "metadata": {},
   "source": [
    "Посомтрим значение параметра *AUC_ROC*"
   ]
  },
  {
   "cell_type": "code",
   "execution_count": 38,
   "metadata": {},
   "outputs": [],
   "source": [
    "probabilities_valid = model.predict_proba(features_valid)"
   ]
  },
  {
   "cell_type": "code",
   "execution_count": 39,
   "metadata": {},
   "outputs": [],
   "source": [
    "probabilities_one_valid = probabilities_valid[:, 1]"
   ]
  },
  {
   "cell_type": "code",
   "execution_count": 40,
   "metadata": {},
   "outputs": [
    {
     "data": {
      "text/plain": [
       "0.7390907414653014"
      ]
     },
     "execution_count": 40,
     "metadata": {},
     "output_type": "execute_result"
    }
   ],
   "source": [
    "roc_auc_score(target_valid, probabilities_one_valid)"
   ]
  },
  {
   "cell_type": "markdown",
   "metadata": {},
   "source": [
    "### Дерево решений"
   ]
  },
  {
   "cell_type": "markdown",
   "metadata": {},
   "source": [
    "Для дерева решений на валидационной выборке выберем глубину дерева"
   ]
  },
  {
   "cell_type": "code",
   "execution_count": 41,
   "metadata": {},
   "outputs": [],
   "source": [
    "f1_tree_row_best = 0\n",
    "depth_tree_row_optimum = 0\n",
    "\n",
    "for depth in range(1,9):\n",
    "    model = DecisionTreeClassifier(random_state=12345, max_depth=depth)\n",
    "    model.fit(features_train, target_train)\n",
    "    predict_valid = model.predict(features_valid)\n",
    "    f1 = f1_score(predict_valid, target_valid)\n",
    "    if f1_tree_row_best < f1:\n",
    "        f1_tree_row_best = f1\n",
    "        depth_tree_row_optimum = depth"
   ]
  },
  {
   "cell_type": "code",
   "execution_count": 42,
   "metadata": {},
   "outputs": [
    {
     "data": {
      "text/plain": [
       "0.5337423312883436"
      ]
     },
     "execution_count": 42,
     "metadata": {},
     "output_type": "execute_result"
    }
   ],
   "source": [
    "f1_tree_row_best"
   ]
  },
  {
   "cell_type": "code",
   "execution_count": 43,
   "metadata": {},
   "outputs": [
    {
     "data": {
      "text/plain": [
       "6"
      ]
     },
     "execution_count": 43,
     "metadata": {},
     "output_type": "execute_result"
    }
   ],
   "source": [
    "depth_tree_row_optimum"
   ]
  },
  {
   "cell_type": "markdown",
   "metadata": {},
   "source": [
    "Посмотрим чему равен AUC_ROC"
   ]
  },
  {
   "cell_type": "code",
   "execution_count": 44,
   "metadata": {},
   "outputs": [
    {
     "data": {
      "text/plain": [
       "0.8394526219847661"
      ]
     },
     "execution_count": 44,
     "metadata": {},
     "output_type": "execute_result"
    }
   ],
   "source": [
    "model = DecisionTreeClassifier(random_state=12345, max_depth=depth_tree_row_optimum)\n",
    "model.fit(features_train, target_train)\n",
    "\n",
    "probabilities_valid = model.predict_proba(features_valid)\n",
    "probabilities_one_valid = probabilities_valid[:, 1]\n",
    "roc_auc_score(target_valid, probabilities_one_valid)"
   ]
  },
  {
   "cell_type": "markdown",
   "metadata": {},
   "source": [
    "Значения F1 и AUC_ROC значительно лучше, чем для логистической регрессии. \n",
    "Теперь посмотрим какой результат даст случайный лес.\n",
    "\n",
    "### Случайный лес\n",
    "\n",
    "Для данной модели сперва подберем оптимальные значения параметров для максимальной глубины одного дерева и для количества деревьев"
   ]
  },
  {
   "cell_type": "code",
   "execution_count": 45,
   "metadata": {},
   "outputs": [],
   "source": [
    "best_forest_row_est = 0\n",
    "best_forest_row_depth = 0\n",
    "best_forest_row_f1 = 0\n",
    "\n",
    "for est in range(10, 511, 100):\n",
    "    for depth in range (1,11):\n",
    "        model = RandomForestClassifier(random_state=12345, n_estimators=est, max_depth=depth)\n",
    "        model.fit(features_train, target_train)\n",
    "        predict_valid = model.predict(features_valid)\n",
    "        f1 = f1_score(predict_valid, target_valid)\n",
    "        if best_forest_row_f1 < f1:\n",
    "            best_forest_row_f1 = f1\n",
    "            best_forest_row_est = est\n",
    "            best_forest_row_depth = depth          "
   ]
  },
  {
   "cell_type": "code",
   "execution_count": 46,
   "metadata": {},
   "outputs": [
    {
     "data": {
      "text/plain": [
       "510"
      ]
     },
     "execution_count": 46,
     "metadata": {},
     "output_type": "execute_result"
    }
   ],
   "source": [
    "best_forest_row_est"
   ]
  },
  {
   "cell_type": "code",
   "execution_count": 47,
   "metadata": {},
   "outputs": [
    {
     "data": {
      "text/plain": [
       "10"
      ]
     },
     "execution_count": 47,
     "metadata": {},
     "output_type": "execute_result"
    }
   ],
   "source": [
    "best_forest_row_depth"
   ]
  },
  {
   "cell_type": "code",
   "execution_count": 48,
   "metadata": {},
   "outputs": [
    {
     "data": {
      "text/plain": [
       "0.5195618153364633"
      ]
     },
     "execution_count": 48,
     "metadata": {},
     "output_type": "execute_result"
    }
   ],
   "source": [
    "best_forest_row_f1"
   ]
  },
  {
   "cell_type": "markdown",
   "metadata": {},
   "source": [
    "Для найденного оптимума параметров леса качество модели становится немного лучше чем для одиночного решающего дерева.\n",
    "\n",
    "Для \"сырого\" набора данных степень точности моделей получается не очень высоким. Посмотрим как может измениться точность модели при увеличении количества деревьев"
   ]
  },
  {
   "cell_type": "code",
   "execution_count": 49,
   "metadata": {},
   "outputs": [
    {
     "data": {
      "text/plain": [
       "0.51875"
      ]
     },
     "execution_count": 49,
     "metadata": {},
     "output_type": "execute_result"
    }
   ],
   "source": [
    "model = RandomForestClassifier(random_state=12345, n_estimators=1000, max_depth=best_forest_row_depth)\n",
    "model.fit(features_train, target_train)\n",
    "\n",
    "predict_valid = model.predict(features_valid)\n",
    "f1_score(predict_valid, target_valid)"
   ]
  },
  {
   "cell_type": "markdown",
   "metadata": {},
   "source": [
    "Точность модели ухудшается. Посмотрим показатель AUC_ROC для оптимальных параметров *количество деревьев* и *максимальная глубина дерева*."
   ]
  },
  {
   "cell_type": "code",
   "execution_count": 50,
   "metadata": {},
   "outputs": [
    {
     "data": {
      "text/plain": [
       "0.8600763636854248"
      ]
     },
     "execution_count": 50,
     "metadata": {},
     "output_type": "execute_result"
    }
   ],
   "source": [
    "model = RandomForestClassifier(random_state=12345, n_estimators=best_forest_row_est, max_depth=best_forest_row_depth)\n",
    "model.fit(features_train, target_train)\n",
    "\n",
    "probabilities_valid = model.predict_proba(features_valid)\n",
    "probabilities_one_valid = probabilities_valid[:, 1]\n",
    "roc_auc_score(target_valid, probabilities_one_valid)"
   ]
  },
  {
   "cell_type": "markdown",
   "metadata": {},
   "source": [
    " Теперь исследуем исходный набор на предмет наличия дисбалансов"
   ]
  },
  {
   "cell_type": "markdown",
   "metadata": {},
   "source": [
    "## Борьба с дисбалансом"
   ]
  },
  {
   "cell_type": "markdown",
   "metadata": {},
   "source": [
    "### Предварительная оценка исходных данных"
   ]
  },
  {
   "cell_type": "code",
   "execution_count": 51,
   "metadata": {},
   "outputs": [
    {
     "data": {
      "text/plain": [
       "1196"
      ]
     },
     "execution_count": 51,
     "metadata": {},
     "output_type": "execute_result"
    }
   ],
   "source": [
    "sum((target_train == 1))"
   ]
  },
  {
   "cell_type": "code",
   "execution_count": 52,
   "metadata": {},
   "outputs": [
    {
     "data": {
      "text/plain": [
       "4804"
      ]
     },
     "execution_count": 52,
     "metadata": {},
     "output_type": "execute_result"
    }
   ],
   "source": [
    "sum((target_train == 0))"
   ]
  },
  {
   "cell_type": "markdown",
   "metadata": {},
   "source": [
    "Таким образом количество положительных классов примерно в 4 раза меньше отрицательных. \n",
    "\n",
    "Для дальнейшего исследования проведем сперва увеличение положительных ответов а потом уменьшение отрицательных и посмотрим, в каком случае модель покажет более качественные результаты\n",
    "\n",
    "### Увеличение выборки"
   ]
  },
  {
   "cell_type": "markdown",
   "metadata": {},
   "source": [
    "#### Подготовка данных\n",
    "\n",
    "Увеличим количество положительных ответов в 4 раза, перемешаем все объекты и после этого разделим исходные данные на обучающую, валидационную и тестовую выборки"
   ]
  },
  {
   "cell_type": "code",
   "execution_count": 53,
   "metadata": {},
   "outputs": [],
   "source": [
    "features_train_zeros = features_train[target_train == 0]"
   ]
  },
  {
   "cell_type": "code",
   "execution_count": 54,
   "metadata": {},
   "outputs": [],
   "source": [
    "features_train_ones = features_train[target_train == 1]"
   ]
  },
  {
   "cell_type": "code",
   "execution_count": 55,
   "metadata": {},
   "outputs": [],
   "source": [
    "target_train_zeros = target_train[target_train == 0]"
   ]
  },
  {
   "cell_type": "code",
   "execution_count": 56,
   "metadata": {},
   "outputs": [],
   "source": [
    "target_train_ones = target_train[target_train == 1]"
   ]
  },
  {
   "cell_type": "code",
   "execution_count": 57,
   "metadata": {},
   "outputs": [],
   "source": [
    "features_train_upsampled = pd.concat([features_train_zeros] + [features_train_ones] * 4)"
   ]
  },
  {
   "cell_type": "code",
   "execution_count": 58,
   "metadata": {},
   "outputs": [],
   "source": [
    "target_train_upsampled = pd.concat([target_train_zeros] + [target_train_ones] * 4)"
   ]
  },
  {
   "cell_type": "code",
   "execution_count": 59,
   "metadata": {},
   "outputs": [],
   "source": [
    "features_train_upsampled, target_train_upsampled = shuffle(features_train_upsampled, target_train_upsampled, random_state=12345)"
   ]
  },
  {
   "cell_type": "code",
   "execution_count": 60,
   "metadata": {},
   "outputs": [
    {
     "data": {
      "text/plain": [
       "(4784, 11)"
      ]
     },
     "execution_count": 60,
     "metadata": {},
     "output_type": "execute_result"
    }
   ],
   "source": [
    "features_train_upsampled[target_train_upsampled==1].shape"
   ]
  },
  {
   "cell_type": "code",
   "execution_count": 61,
   "metadata": {},
   "outputs": [
    {
     "data": {
      "text/plain": [
       "(4804, 11)"
      ]
     },
     "execution_count": 61,
     "metadata": {},
     "output_type": "execute_result"
    }
   ],
   "source": [
    "features_train_upsampled[target_train_upsampled==0].shape"
   ]
  },
  {
   "cell_type": "markdown",
   "metadata": {},
   "source": [
    "Выборка готова. Проверим наши модели на данном наборе данных.\n",
    "\n",
    "#### Логистическая регрессия"
   ]
  },
  {
   "cell_type": "code",
   "execution_count": 62,
   "metadata": {},
   "outputs": [],
   "source": [
    "model = LogisticRegression(solver='liblinear' ,random_state=12345)"
   ]
  },
  {
   "cell_type": "code",
   "execution_count": 63,
   "metadata": {},
   "outputs": [
    {
     "data": {
      "text/plain": [
       "LogisticRegression(random_state=12345, solver='liblinear')"
      ]
     },
     "execution_count": 63,
     "metadata": {},
     "output_type": "execute_result"
    }
   ],
   "source": [
    "model.fit(features_train_upsampled, target_train_upsampled)"
   ]
  },
  {
   "cell_type": "code",
   "execution_count": 64,
   "metadata": {},
   "outputs": [],
   "source": [
    "predict_upsampled_valid = model.predict(features_valid)"
   ]
  },
  {
   "cell_type": "code",
   "execution_count": 65,
   "metadata": {},
   "outputs": [
    {
     "data": {
      "text/plain": [
       "0.48228176318063953"
      ]
     },
     "execution_count": 65,
     "metadata": {},
     "output_type": "execute_result"
    }
   ],
   "source": [
    "f1_score(predict_upsampled_valid, target_valid)"
   ]
  },
  {
   "cell_type": "markdown",
   "metadata": {},
   "source": [
    "Точность модели *Логистическая регрессия* немного увеличилась. Однако в целом точность модели остается низкой. "
   ]
  },
  {
   "cell_type": "code",
   "execution_count": 66,
   "metadata": {},
   "outputs": [
    {
     "data": {
      "text/plain": [
       "0.7418820485375619"
      ]
     },
     "execution_count": 66,
     "metadata": {},
     "output_type": "execute_result"
    }
   ],
   "source": [
    "probabilities_upsampled_valid = model.predict_proba(features_valid)\n",
    "probabilities_upsampled_one_valid = probabilities_upsampled_valid[:, 1]\n",
    "roc_auc_score(target_valid, probabilities_upsampled_one_valid)"
   ]
  },
  {
   "cell_type": "markdown",
   "metadata": {},
   "source": [
    "Показатель AUC_ROC практически не изменился."
   ]
  },
  {
   "cell_type": "markdown",
   "metadata": {},
   "source": [
    "#### Дерево решений"
   ]
  },
  {
   "cell_type": "code",
   "execution_count": 67,
   "metadata": {},
   "outputs": [],
   "source": [
    "f1_tree_upsampled_best = 0\n",
    "depth_tree_upsampled_optimum = 0\n",
    "\n",
    "for depth in range(1,9):\n",
    "    model = DecisionTreeClassifier(random_state=12345, max_depth=depth)\n",
    "    model.fit(features_train_upsampled, target_train_upsampled)\n",
    "    predict_upsampled_valid = model.predict(features_valid)\n",
    "    f1 = f1_score(predict_upsampled_valid, target_valid)\n",
    "    if f1_tree_upsampled_best < f1:\n",
    "        f1_tree_upsampled_best = f1\n",
    "        depth_tree_upsampled_optimum = depth"
   ]
  },
  {
   "cell_type": "code",
   "execution_count": 68,
   "metadata": {},
   "outputs": [
    {
     "data": {
      "text/plain": [
       "0.5809128630705395"
      ]
     },
     "execution_count": 68,
     "metadata": {},
     "output_type": "execute_result"
    }
   ],
   "source": [
    "f1_tree_upsampled_best"
   ]
  },
  {
   "cell_type": "code",
   "execution_count": 69,
   "metadata": {},
   "outputs": [
    {
     "data": {
      "text/plain": [
       "5"
      ]
     },
     "execution_count": 69,
     "metadata": {},
     "output_type": "execute_result"
    }
   ],
   "source": [
    "depth_tree_upsampled_optimum"
   ]
  },
  {
   "cell_type": "markdown",
   "metadata": {},
   "source": [
    "Значение меры F1 увеличилось незначительно по сравнению с сырыми данными. при этом оптимальная глубина дерева уменьшилась с 7 до 5.\n",
    "\n",
    "Посмотрим показатель *AUC_ROC*"
   ]
  },
  {
   "cell_type": "code",
   "execution_count": 70,
   "metadata": {},
   "outputs": [
    {
     "data": {
      "text/plain": [
       "0.8355347481752318"
      ]
     },
     "execution_count": 70,
     "metadata": {},
     "output_type": "execute_result"
    }
   ],
   "source": [
    "model = DecisionTreeClassifier(random_state=12345, max_depth=depth_tree_upsampled_optimum)\n",
    "model.fit(features_train_upsampled, target_train_upsampled)\n",
    "\n",
    "probabilities_upsampled_valid = model.predict_proba(features_valid)\n",
    "probabilities_upsampled_one_valid = probabilities_upsampled_valid[:, 1]\n",
    "roc_auc_score(target_valid, probabilities_upsampled_one_valid)"
   ]
  },
  {
   "cell_type": "markdown",
   "metadata": {},
   "source": [
    "А значение AUC_ROC немного увеличилось, что говорит, что качество модели *Решающее дерево* немного улучшилось"
   ]
  },
  {
   "cell_type": "markdown",
   "metadata": {},
   "source": [
    "#### Случайный лес"
   ]
  },
  {
   "cell_type": "code",
   "execution_count": 71,
   "metadata": {},
   "outputs": [],
   "source": [
    "best_forest_upsampled_est = 0\n",
    "best_forest_upsampled_depth = 0\n",
    "best_forest_upsampled_f1 = 0\n",
    "\n",
    "for est in range(10, 511, 100):\n",
    "    for depth in range (1,11):\n",
    "        model = RandomForestClassifier(random_state=12345, n_estimators=est, max_depth=depth)\n",
    "        model.fit(features_train_upsampled, target_train_upsampled)\n",
    "        predict_upsampled_valid = model.predict(features_valid)\n",
    "        f1 = f1_score(predict_upsampled_valid, target_valid)\n",
    "        if best_forest_upsampled_f1 < f1:\n",
    "            best_forest_upsampled_f1 = f1\n",
    "            best_forest_upsampled_est = est\n",
    "            best_forest_upsampled_depth = depth"
   ]
  },
  {
   "cell_type": "code",
   "execution_count": 72,
   "metadata": {},
   "outputs": [
    {
     "data": {
      "text/plain": [
       "0.617283950617284"
      ]
     },
     "execution_count": 72,
     "metadata": {},
     "output_type": "execute_result"
    }
   ],
   "source": [
    "best_forest_upsampled_f1"
   ]
  },
  {
   "cell_type": "code",
   "execution_count": 73,
   "metadata": {},
   "outputs": [
    {
     "data": {
      "text/plain": [
       "210"
      ]
     },
     "execution_count": 73,
     "metadata": {},
     "output_type": "execute_result"
    }
   ],
   "source": [
    "best_forest_upsampled_est"
   ]
  },
  {
   "cell_type": "code",
   "execution_count": 74,
   "metadata": {},
   "outputs": [
    {
     "data": {
      "text/plain": [
       "9"
      ]
     },
     "execution_count": 74,
     "metadata": {},
     "output_type": "execute_result"
    }
   ],
   "source": [
    "best_forest_upsampled_depth"
   ]
  },
  {
   "cell_type": "markdown",
   "metadata": {},
   "source": [
    "Для модели *Случайный лес* мера F1 превысила требуемое нам для точности значение. При этом оптимальное количество деревьев в лесу увеличилось почти в 4 раза, при том что глубина дерева не изменилась.\n",
    "\n",
    "Посмотрим показатель *AUC_ROC*"
   ]
  },
  {
   "cell_type": "code",
   "execution_count": 75,
   "metadata": {},
   "outputs": [
    {
     "data": {
      "text/plain": [
       "0.8577752593052315"
      ]
     },
     "execution_count": 75,
     "metadata": {},
     "output_type": "execute_result"
    }
   ],
   "source": [
    "model = RandomForestClassifier(random_state=12345, \\\n",
    "                               n_estimators=best_forest_upsampled_est, max_depth=best_forest_upsampled_depth)\n",
    "model.fit(features_train_upsampled, target_train_upsampled)\n",
    "\n",
    "probabilities_upsampled_valid = model.predict_proba(features_valid)\n",
    "probabilities_upsampled_one_valid = probabilities_upsampled_valid[:, 1]\n",
    "roc_auc_score(target_valid, probabilities_upsampled_one_valid)"
   ]
  },
  {
   "cell_type": "markdown",
   "metadata": {},
   "source": [
    "При этом значение *AUC_ROC* немного ухудшилось.\n",
    "\n",
    "Посмотрим как изменится точность моделей при уменьшении выборки."
   ]
  },
  {
   "cell_type": "markdown",
   "metadata": {},
   "source": [
    "### Уменьшение выборки\n",
    "\n",
    "#### Подготовка данных\n",
    "\n",
    "Поскольку отрицательных данных у нас в 4 раза больше положительных, то коэффициент уменьшения будет принимать значение 0.26"
   ]
  },
  {
   "cell_type": "code",
   "execution_count": 76,
   "metadata": {},
   "outputs": [],
   "source": [
    "features_train_downsampled = pd.concat([features_train_zeros.sample(frac=0.26, random_state=12345)] + [features_train_ones])\n",
    "target_train_downsampled = pd.concat([target_train_zeros.sample(frac=0.26, random_state=12345)] + [target_train_ones])\n",
    "features_train_downsampled, target_train_downsampled = shuffle(features_train_downsampled, target_train_downsampled, random_state=12345)"
   ]
  },
  {
   "cell_type": "code",
   "execution_count": 77,
   "metadata": {},
   "outputs": [
    {
     "data": {
      "text/plain": [
       "(1196, 11)"
      ]
     },
     "execution_count": 77,
     "metadata": {},
     "output_type": "execute_result"
    }
   ],
   "source": [
    "features_train_downsampled[target_train_downsampled==1].shape"
   ]
  },
  {
   "cell_type": "code",
   "execution_count": 78,
   "metadata": {},
   "outputs": [
    {
     "data": {
      "text/plain": [
       "(1249, 11)"
      ]
     },
     "execution_count": 78,
     "metadata": {},
     "output_type": "execute_result"
    }
   ],
   "source": [
    "features_train_downsampled[target_train_downsampled==0].shape"
   ]
  },
  {
   "cell_type": "markdown",
   "metadata": {},
   "source": [
    "Данные подготовлены. Перейдем к проверке моделей"
   ]
  },
  {
   "cell_type": "markdown",
   "metadata": {},
   "source": [
    "#### Логистическая регрессия"
   ]
  },
  {
   "cell_type": "code",
   "execution_count": 79,
   "metadata": {},
   "outputs": [],
   "source": [
    "model = LogisticRegression(solver='liblinear' ,random_state=12345)"
   ]
  },
  {
   "cell_type": "code",
   "execution_count": 80,
   "metadata": {},
   "outputs": [
    {
     "data": {
      "text/plain": [
       "LogisticRegression(random_state=12345, solver='liblinear')"
      ]
     },
     "execution_count": 80,
     "metadata": {},
     "output_type": "execute_result"
    }
   ],
   "source": [
    "model.fit(features_train_downsampled, target_train_downsampled)"
   ]
  },
  {
   "cell_type": "code",
   "execution_count": 81,
   "metadata": {},
   "outputs": [],
   "source": [
    "predict_downsampled_valid = model.predict(features_valid)"
   ]
  },
  {
   "cell_type": "code",
   "execution_count": 82,
   "metadata": {},
   "outputs": [
    {
     "data": {
      "text/plain": [
       "0.48336252189141865"
      ]
     },
     "execution_count": 82,
     "metadata": {},
     "output_type": "execute_result"
    }
   ],
   "source": [
    "f1_score(predict_downsampled_valid, target_valid)"
   ]
  },
  {
   "cell_type": "markdown",
   "metadata": {},
   "source": []
  },
  {
   "cell_type": "code",
   "execution_count": 83,
   "metadata": {},
   "outputs": [
    {
     "data": {
      "text/plain": [
       "0.7418265821779092"
      ]
     },
     "execution_count": 83,
     "metadata": {},
     "output_type": "execute_result"
    }
   ],
   "source": [
    "probabilities_downsampled_valid = model.predict_proba(features_valid)\n",
    "probabilities_downsampled_one_valid = probabilities_downsampled_valid[:, 1]\n",
    "roc_auc_score(target_valid, probabilities_downsampled_one_valid)"
   ]
  },
  {
   "cell_type": "markdown",
   "metadata": {},
   "source": [
    "Для логистической регрессии параметры точности практически не изменились по сравнению с увеличенной выборкой."
   ]
  },
  {
   "cell_type": "markdown",
   "metadata": {},
   "source": [
    "#### Дерево решений"
   ]
  },
  {
   "cell_type": "code",
   "execution_count": 84,
   "metadata": {},
   "outputs": [],
   "source": [
    "f1_tree_downsampled_best = 0\n",
    "depth_tree_downsampled_optimum = 0\n",
    "\n",
    "for depth in range(1,9):\n",
    "    model = DecisionTreeClassifier(random_state=12345, max_depth=depth)\n",
    "    model.fit(features_train_downsampled, target_train_downsampled)\n",
    "    predict_downsampled_valid = model.predict(features_valid)\n",
    "    f1 = f1_score(predict_downsampled_valid, target_valid)\n",
    "    if f1_tree_downsampled_best < f1:\n",
    "        f1_tree_downsampled_best = f1\n",
    "        depth_tree_downsampled_optimum = depth"
   ]
  },
  {
   "cell_type": "code",
   "execution_count": 85,
   "metadata": {},
   "outputs": [
    {
     "data": {
      "text/plain": [
       "0.5926640926640927"
      ]
     },
     "execution_count": 85,
     "metadata": {},
     "output_type": "execute_result"
    }
   ],
   "source": [
    "f1_tree_downsampled_best"
   ]
  },
  {
   "cell_type": "code",
   "execution_count": 86,
   "metadata": {},
   "outputs": [
    {
     "data": {
      "text/plain": [
       "5"
      ]
     },
     "execution_count": 86,
     "metadata": {},
     "output_type": "execute_result"
    }
   ],
   "source": [
    "depth_tree_downsampled_optimum"
   ]
  },
  {
   "cell_type": "markdown",
   "metadata": {},
   "source": []
  },
  {
   "cell_type": "code",
   "execution_count": 87,
   "metadata": {},
   "outputs": [
    {
     "data": {
      "text/plain": [
       "0.8321970225058501"
      ]
     },
     "execution_count": 87,
     "metadata": {},
     "output_type": "execute_result"
    }
   ],
   "source": [
    "model = DecisionTreeClassifier(random_state=12345, max_depth=depth_tree_downsampled_optimum)\n",
    "model.fit(features_train_downsampled, target_train_downsampled)\n",
    "\n",
    "probabilities_downsampled_valid = model.predict_proba(features_valid)\n",
    "probabilities_downsampled_one_valid = probabilities_downsampled_valid[:, 1]\n",
    "roc_auc_score(target_valid, probabilities_downsampled_one_valid)"
   ]
  },
  {
   "cell_type": "markdown",
   "metadata": {},
   "source": [
    "Для модели *Дерево решений* параметры точности модели уменьшились по сравнению с увличенным набором данных."
   ]
  },
  {
   "cell_type": "markdown",
   "metadata": {},
   "source": [
    "#### Случайный лес"
   ]
  },
  {
   "cell_type": "code",
   "execution_count": 88,
   "metadata": {},
   "outputs": [],
   "source": [
    "best_forest_downsampled_est = 0\n",
    "best_forest_downsampled_depth = 0\n",
    "best_forest_downsampled_f1 = 0\n",
    "\n",
    "for est in range(10, 511, 100):\n",
    "    for depth in range (1,11):\n",
    "        model = RandomForestClassifier(random_state=12345, n_estimators=est, max_depth=depth)\n",
    "        model.fit(features_train_downsampled, target_train_downsampled)\n",
    "        predict_downsampled_valid = model.predict(features_valid)\n",
    "        f1 = f1_score(predict_downsampled_valid, target_valid)\n",
    "        if best_forest_downsampled_f1 < f1:\n",
    "            best_forest_downsampled_f1 = f1\n",
    "            best_forest_downsampled_est = est\n",
    "            best_forest_downsampled_depth = depth"
   ]
  },
  {
   "cell_type": "code",
   "execution_count": 89,
   "metadata": {},
   "outputs": [
    {
     "data": {
      "text/plain": [
       "0.6025267249757046"
      ]
     },
     "execution_count": 89,
     "metadata": {},
     "output_type": "execute_result"
    }
   ],
   "source": [
    "best_forest_downsampled_f1"
   ]
  },
  {
   "cell_type": "code",
   "execution_count": 90,
   "metadata": {},
   "outputs": [
    {
     "data": {
      "text/plain": [
       "210"
      ]
     },
     "execution_count": 90,
     "metadata": {},
     "output_type": "execute_result"
    }
   ],
   "source": [
    "best_forest_downsampled_est"
   ]
  },
  {
   "cell_type": "code",
   "execution_count": 91,
   "metadata": {},
   "outputs": [
    {
     "data": {
      "text/plain": [
       "8"
      ]
     },
     "execution_count": 91,
     "metadata": {},
     "output_type": "execute_result"
    }
   ],
   "source": [
    "best_forest_downsampled_depth"
   ]
  },
  {
   "cell_type": "code",
   "execution_count": 92,
   "metadata": {},
   "outputs": [
    {
     "data": {
      "text/plain": [
       "0.8520412369897659"
      ]
     },
     "execution_count": 92,
     "metadata": {},
     "output_type": "execute_result"
    }
   ],
   "source": [
    "model = RandomForestClassifier(random_state=12345, \\\n",
    "                               n_estimators=best_forest_downsampled_est, max_depth=best_forest_downsampled_depth)\n",
    "model.fit(features_train_downsampled, target_train_downsampled)\n",
    "\n",
    "probabilities_downsampled_valid = model.predict_proba(features_valid)\n",
    "probabilities_downsampled_one_valid = probabilities_downsampled_valid[:, 1]\n",
    "roc_auc_score(target_valid, probabilities_downsampled_one_valid)"
   ]
  },
  {
   "cell_type": "markdown",
   "metadata": {},
   "source": [
    "Модель *Случайный лес* на уменьшеной выборке показывает точность лучше, чем модель *Дерево решений*, но все равно это хуже, чем эта же модель показывает на увеличенной выборке."
   ]
  },
  {
   "cell_type": "markdown",
   "metadata": {},
   "source": [
    "## Тестирование модели"
   ]
  },
  {
   "cell_type": "markdown",
   "metadata": {},
   "source": [
    "Самые лучшие результаты показала модель *Случайный лес* на увеличенной выборке. Проверим эту модель на тестовых данных."
   ]
  },
  {
   "cell_type": "code",
   "execution_count": 93,
   "metadata": {},
   "outputs": [
    {
     "data": {
      "text/plain": [
       "RandomForestClassifier(max_depth=9, n_estimators=210, random_state=12345)"
      ]
     },
     "execution_count": 93,
     "metadata": {},
     "output_type": "execute_result"
    }
   ],
   "source": [
    "model = momodel = RandomForestClassifier(random_state=12345, \\\n",
    "                               n_estimators=best_forest_upsampled_est, max_depth=best_forest_upsampled_depth)\n",
    "model.fit(features_train_upsampled, target_train_upsampled)"
   ]
  },
  {
   "cell_type": "code",
   "execution_count": 94,
   "metadata": {},
   "outputs": [],
   "source": [
    "predict_upsampled_test = model.predict(features_test)"
   ]
  },
  {
   "cell_type": "code",
   "execution_count": 95,
   "metadata": {},
   "outputs": [
    {
     "data": {
      "text/plain": [
       "0.6210526315789473"
      ]
     },
     "execution_count": 95,
     "metadata": {},
     "output_type": "execute_result"
    }
   ],
   "source": [
    "f1_score(predict_upsampled_test, target_test)"
   ]
  },
  {
   "cell_type": "code",
   "execution_count": 96,
   "metadata": {},
   "outputs": [
    {
     "data": {
      "text/plain": [
       "0.8546885113023911"
      ]
     },
     "execution_count": 96,
     "metadata": {},
     "output_type": "execute_result"
    }
   ],
   "source": [
    "probabilities_upsampled_test = model.predict_proba(features_test)\n",
    "probabilities_upsampled_one_test = probabilities_upsampled_test[:, 1]\n",
    "roc_auc_score(target_test, probabilities_upsampled_one_test)"
   ]
  },
  {
   "cell_type": "markdown",
   "metadata": {},
   "source": [
    "## Общий вывод"
   ]
  },
  {
   "cell_type": "markdown",
   "metadata": {},
   "source": [
    "Таким образом мы можем видеть, что наилучшие ркзультаты для данного набора данных показывает модель *Случайный лес* на увеличенном наборе данных.\n",
    "\n",
    "Значение меры **F1** равно **0.621**\n",
    "Показатель **AUC_ROC** равен **0.8546**\n",
    "\n",
    "Надо отметить, что показатель *AUC_ROC* для разных моделей и разных наборов данных меняется не так значительно как мера *F1*"
   ]
  },
  {
   "cell_type": "markdown",
   "metadata": {},
   "source": [
    "## Чек-лист готовности проекта"
   ]
  },
  {
   "cell_type": "markdown",
   "metadata": {},
   "source": [
    "Поставьте 'x' в выполненных пунктах. Далее нажмите Shift+Enter."
   ]
  },
  {
   "cell_type": "markdown",
   "metadata": {},
   "source": [
    "- [x]  Jupyter Notebook открыт\n",
    "- [x]  Весь код выполняется без ошибок\n",
    "- [x]  Ячейки с кодом расположены в порядке исполнения\n",
    "- [x]  Выполнен шаг 1: данные подготовлены\n",
    "- [x]  Выполнен шаг 2: задача исследована\n",
    "    - [x]  Исследован баланс классов\n",
    "    - [x]  Изучены модели без учёта дисбаланса\n",
    "    - [x]  Написаны выводы по результатам исследования\n",
    "- [x]  Выполнен шаг 3: учтён дисбаланс\n",
    "    - [x]  Применено несколько способов борьбы с дисбалансом\n",
    "    - [x]  Написаны выводы по результатам исследования\n",
    "- [x]  Выполнен шаг 4: проведено тестирование\n",
    "- [x]  Удалось достичь *F1*-меры не менее 0.59\n",
    "- [x]  Исследована метрика *AUC-ROC*"
   ]
  },
  {
   "cell_type": "markdown",
   "metadata": {},
   "source": [
    "https://github.com/konbag/Supervised-learning"
   ]
  },
  {
   "cell_type": "code",
   "execution_count": null,
   "metadata": {},
   "outputs": [],
   "source": []
  }
 ],
 "metadata": {
  "ExecuteTimeLog": [
   {
    "duration": 1642,
    "start_time": "2022-10-21T14:43:58.687Z"
   },
   {
    "duration": 181,
    "start_time": "2022-10-21T14:54:47.993Z"
   },
   {
    "duration": 15,
    "start_time": "2022-10-21T14:54:50.640Z"
   },
   {
    "duration": 17,
    "start_time": "2022-10-21T14:55:02.181Z"
   },
   {
    "duration": 127,
    "start_time": "2022-10-21T15:48:09.602Z"
   },
   {
    "duration": 8,
    "start_time": "2022-10-21T15:49:09.408Z"
   },
   {
    "duration": 138,
    "start_time": "2022-10-21T15:50:01.955Z"
   },
   {
    "duration": 6,
    "start_time": "2022-10-21T15:50:07.919Z"
   },
   {
    "duration": 5,
    "start_time": "2022-10-21T15:53:36.267Z"
   },
   {
    "duration": 5,
    "start_time": "2022-10-21T15:57:05.757Z"
   },
   {
    "duration": 11,
    "start_time": "2022-10-21T15:59:28.783Z"
   },
   {
    "duration": 23,
    "start_time": "2022-10-21T15:59:45.485Z"
   },
   {
    "duration": 72,
    "start_time": "2022-10-21T16:03:18.160Z"
   },
   {
    "duration": 44,
    "start_time": "2022-10-22T21:48:45.909Z"
   },
   {
    "duration": 1489,
    "start_time": "2022-10-22T21:49:04.984Z"
   },
   {
    "duration": 178,
    "start_time": "2022-10-22T21:49:06.475Z"
   },
   {
    "duration": 14,
    "start_time": "2022-10-22T21:49:06.655Z"
   },
   {
    "duration": 16,
    "start_time": "2022-10-22T21:49:06.670Z"
   },
   {
    "duration": 4,
    "start_time": "2022-10-22T21:49:06.688Z"
   },
   {
    "duration": 10,
    "start_time": "2022-10-22T21:49:06.694Z"
   },
   {
    "duration": 14,
    "start_time": "2022-10-22T21:49:06.705Z"
   },
   {
    "duration": 5,
    "start_time": "2022-10-22T21:49:06.721Z"
   },
   {
    "duration": 109,
    "start_time": "2022-10-22T21:49:10.116Z"
   },
   {
    "duration": 14,
    "start_time": "2022-10-22T21:49:25.499Z"
   },
   {
    "duration": 7,
    "start_time": "2022-10-22T21:55:25.028Z"
   },
   {
    "duration": 16,
    "start_time": "2022-10-22T21:55:35.628Z"
   },
   {
    "duration": 1542,
    "start_time": "2022-10-23T14:36:35.293Z"
   },
   {
    "duration": 63,
    "start_time": "2022-10-23T14:36:36.838Z"
   },
   {
    "duration": 14,
    "start_time": "2022-10-23T14:36:36.902Z"
   },
   {
    "duration": 21,
    "start_time": "2022-10-23T14:36:36.918Z"
   },
   {
    "duration": 5,
    "start_time": "2022-10-23T14:36:36.941Z"
   },
   {
    "duration": 11,
    "start_time": "2022-10-23T14:36:36.947Z"
   },
   {
    "duration": 4,
    "start_time": "2022-10-23T14:36:36.959Z"
   },
   {
    "duration": 12,
    "start_time": "2022-10-23T14:36:36.965Z"
   },
   {
    "duration": 8,
    "start_time": "2022-10-23T14:36:36.979Z"
   },
   {
    "duration": 4,
    "start_time": "2022-10-23T14:36:40.173Z"
   },
   {
    "duration": 11,
    "start_time": "2022-10-23T14:36:50.644Z"
   },
   {
    "duration": 127,
    "start_time": "2022-10-23T14:38:15.995Z"
   },
   {
    "duration": 5,
    "start_time": "2022-10-23T14:38:22.594Z"
   },
   {
    "duration": 4,
    "start_time": "2022-10-23T14:38:53.308Z"
   },
   {
    "duration": 5,
    "start_time": "2022-10-23T14:39:17.155Z"
   },
   {
    "duration": 3,
    "start_time": "2022-10-23T14:42:10.546Z"
   },
   {
    "duration": 4,
    "start_time": "2022-10-23T14:42:38.305Z"
   },
   {
    "duration": 3,
    "start_time": "2022-10-23T14:42:38.849Z"
   },
   {
    "duration": 208,
    "start_time": "2022-10-23T14:56:01.991Z"
   },
   {
    "duration": 102,
    "start_time": "2022-10-23T14:56:12.132Z"
   },
   {
    "duration": 18,
    "start_time": "2022-10-23T14:56:45.547Z"
   },
   {
    "duration": 7,
    "start_time": "2022-10-23T15:01:22.599Z"
   },
   {
    "duration": 11,
    "start_time": "2022-10-23T15:01:33.571Z"
   },
   {
    "duration": 11,
    "start_time": "2022-10-23T15:01:36.784Z"
   },
   {
    "duration": 11,
    "start_time": "2022-10-23T15:02:09.065Z"
   },
   {
    "duration": 3,
    "start_time": "2022-10-23T15:15:04.372Z"
   },
   {
    "duration": 5,
    "start_time": "2022-10-23T15:15:04.908Z"
   },
   {
    "duration": 47,
    "start_time": "2022-10-23T15:15:05.375Z"
   },
   {
    "duration": 6,
    "start_time": "2022-10-23T15:15:11.920Z"
   },
   {
    "duration": 9,
    "start_time": "2022-10-23T15:16:20.084Z"
   },
   {
    "duration": 6,
    "start_time": "2022-10-23T15:16:36.629Z"
   },
   {
    "duration": 13,
    "start_time": "2022-10-23T15:17:27.396Z"
   },
   {
    "duration": 11,
    "start_time": "2022-10-23T15:17:30.677Z"
   },
   {
    "duration": 11,
    "start_time": "2022-10-23T15:17:33.741Z"
   },
   {
    "duration": 8,
    "start_time": "2022-10-23T18:20:40.635Z"
   },
   {
    "duration": 3,
    "start_time": "2022-10-23T18:20:48.423Z"
   },
   {
    "duration": 14,
    "start_time": "2022-10-23T18:21:24.293Z"
   },
   {
    "duration": 19,
    "start_time": "2022-10-23T18:22:06.829Z"
   },
   {
    "duration": 8,
    "start_time": "2022-10-23T18:23:06.232Z"
   },
   {
    "duration": 9,
    "start_time": "2022-10-23T18:30:03.325Z"
   },
   {
    "duration": 3,
    "start_time": "2022-10-23T18:30:07.796Z"
   },
   {
    "duration": 16,
    "start_time": "2022-10-23T18:30:10.100Z"
   },
   {
    "duration": 3,
    "start_time": "2022-10-23T18:30:53.547Z"
   },
   {
    "duration": 9,
    "start_time": "2022-10-23T18:30:55.072Z"
   },
   {
    "duration": 15,
    "start_time": "2022-10-23T18:30:58.868Z"
   },
   {
    "duration": 15,
    "start_time": "2022-10-23T18:31:02.209Z"
   },
   {
    "duration": 16,
    "start_time": "2022-10-23T18:31:10.425Z"
   },
   {
    "duration": 1286,
    "start_time": "2022-10-23T18:54:53.141Z"
   },
   {
    "duration": 30,
    "start_time": "2022-10-23T18:54:54.429Z"
   },
   {
    "duration": 13,
    "start_time": "2022-10-23T18:54:54.461Z"
   },
   {
    "duration": 16,
    "start_time": "2022-10-23T18:54:54.475Z"
   },
   {
    "duration": 18,
    "start_time": "2022-10-23T18:54:54.492Z"
   },
   {
    "duration": 13,
    "start_time": "2022-10-23T18:54:54.512Z"
   },
   {
    "duration": 6,
    "start_time": "2022-10-23T18:54:54.526Z"
   },
   {
    "duration": 4,
    "start_time": "2022-10-23T18:54:54.534Z"
   },
   {
    "duration": 5,
    "start_time": "2022-10-23T18:54:54.540Z"
   },
   {
    "duration": 3,
    "start_time": "2022-10-23T18:54:54.548Z"
   },
   {
    "duration": 11,
    "start_time": "2022-10-23T18:54:54.553Z"
   },
   {
    "duration": 4,
    "start_time": "2022-10-23T18:54:54.565Z"
   },
   {
    "duration": 10,
    "start_time": "2022-10-23T18:54:54.571Z"
   },
   {
    "duration": 30,
    "start_time": "2022-10-23T18:54:54.583Z"
   },
   {
    "duration": 19,
    "start_time": "2022-10-23T18:54:54.616Z"
   },
   {
    "duration": 4,
    "start_time": "2022-10-23T18:54:54.637Z"
   },
   {
    "duration": 33,
    "start_time": "2022-10-23T18:54:54.643Z"
   },
   {
    "duration": 21,
    "start_time": "2022-10-23T18:54:54.678Z"
   },
   {
    "duration": 31,
    "start_time": "2022-10-23T18:54:54.701Z"
   },
   {
    "duration": 19,
    "start_time": "2022-10-23T18:54:54.734Z"
   },
   {
    "duration": 4,
    "start_time": "2022-10-23T18:54:54.755Z"
   },
   {
    "duration": 6,
    "start_time": "2022-10-23T18:54:54.760Z"
   },
   {
    "duration": 16,
    "start_time": "2022-10-23T18:54:54.768Z"
   },
   {
    "duration": 13,
    "start_time": "2022-10-23T18:54:54.785Z"
   },
   {
    "duration": 13,
    "start_time": "2022-10-23T18:54:54.800Z"
   },
   {
    "duration": 26,
    "start_time": "2022-10-23T18:54:54.814Z"
   },
   {
    "duration": 15,
    "start_time": "2022-10-23T18:54:54.841Z"
   },
   {
    "duration": 7,
    "start_time": "2022-10-23T18:54:54.859Z"
   },
   {
    "duration": 9,
    "start_time": "2022-10-23T18:54:54.868Z"
   },
   {
    "duration": 2,
    "start_time": "2022-10-23T19:05:57.322Z"
   },
   {
    "duration": 22,
    "start_time": "2022-10-23T19:05:58.200Z"
   },
   {
    "duration": 19,
    "start_time": "2022-10-23T19:05:59.302Z"
   },
   {
    "duration": 137,
    "start_time": "2022-10-23T19:06:00.111Z"
   },
   {
    "duration": 1504,
    "start_time": "2022-10-23T19:07:06.804Z"
   },
   {
    "duration": 30,
    "start_time": "2022-10-23T19:07:08.318Z"
   },
   {
    "duration": 13,
    "start_time": "2022-10-23T19:07:08.349Z"
   },
   {
    "duration": 17,
    "start_time": "2022-10-23T19:07:08.363Z"
   },
   {
    "duration": 4,
    "start_time": "2022-10-23T19:07:08.382Z"
   },
   {
    "duration": 6,
    "start_time": "2022-10-23T19:07:08.388Z"
   },
   {
    "duration": 27,
    "start_time": "2022-10-23T19:07:08.395Z"
   },
   {
    "duration": 6,
    "start_time": "2022-10-23T19:07:08.424Z"
   },
   {
    "duration": 8,
    "start_time": "2022-10-23T19:07:08.431Z"
   },
   {
    "duration": 5,
    "start_time": "2022-10-23T19:07:08.440Z"
   },
   {
    "duration": 12,
    "start_time": "2022-10-23T19:07:08.446Z"
   },
   {
    "duration": 4,
    "start_time": "2022-10-23T19:07:08.460Z"
   },
   {
    "duration": 5,
    "start_time": "2022-10-23T19:07:08.465Z"
   },
   {
    "duration": 6,
    "start_time": "2022-10-23T19:07:08.472Z"
   },
   {
    "duration": 31,
    "start_time": "2022-10-23T19:07:08.479Z"
   },
   {
    "duration": 17,
    "start_time": "2022-10-23T19:07:08.512Z"
   },
   {
    "duration": 12,
    "start_time": "2022-10-23T19:07:08.530Z"
   },
   {
    "duration": 10,
    "start_time": "2022-10-23T19:07:08.544Z"
   },
   {
    "duration": 12,
    "start_time": "2022-10-23T19:07:08.556Z"
   },
   {
    "duration": 12,
    "start_time": "2022-10-23T19:07:08.570Z"
   },
   {
    "duration": 3,
    "start_time": "2022-10-23T19:07:08.584Z"
   },
   {
    "duration": 7,
    "start_time": "2022-10-23T19:07:08.589Z"
   },
   {
    "duration": 21,
    "start_time": "2022-10-23T19:07:08.597Z"
   },
   {
    "duration": 14,
    "start_time": "2022-10-23T19:07:08.620Z"
   },
   {
    "duration": 16,
    "start_time": "2022-10-23T19:07:08.635Z"
   },
   {
    "duration": 7,
    "start_time": "2022-10-23T19:07:08.652Z"
   },
   {
    "duration": 8,
    "start_time": "2022-10-23T19:07:08.660Z"
   },
   {
    "duration": 6,
    "start_time": "2022-10-23T19:07:08.670Z"
   },
   {
    "duration": 8,
    "start_time": "2022-10-23T19:07:08.678Z"
   },
   {
    "duration": 4,
    "start_time": "2022-10-23T19:07:08.687Z"
   },
   {
    "duration": 32,
    "start_time": "2022-10-23T19:07:08.692Z"
   },
   {
    "duration": 90,
    "start_time": "2022-10-23T19:07:08.726Z"
   },
   {
    "duration": 5,
    "start_time": "2022-10-23T19:09:01.647Z"
   },
   {
    "duration": 156,
    "start_time": "2022-10-23T19:09:02.465Z"
   },
   {
    "duration": 4,
    "start_time": "2022-10-23T19:09:25.459Z"
   },
   {
    "duration": 5,
    "start_time": "2022-10-23T19:09:44.602Z"
   },
   {
    "duration": 3,
    "start_time": "2022-10-23T19:11:07.242Z"
   },
   {
    "duration": 15,
    "start_time": "2022-10-23T19:11:08.950Z"
   },
   {
    "duration": 6,
    "start_time": "2022-10-23T19:11:11.795Z"
   },
   {
    "duration": 5,
    "start_time": "2022-10-23T19:11:14.636Z"
   },
   {
    "duration": 6,
    "start_time": "2022-10-23T19:11:24.604Z"
   },
   {
    "duration": 6,
    "start_time": "2022-10-23T19:11:31.585Z"
   },
   {
    "duration": 9,
    "start_time": "2022-10-23T19:17:27.589Z"
   },
   {
    "duration": 6,
    "start_time": "2022-10-23T19:17:54.667Z"
   },
   {
    "duration": 3,
    "start_time": "2022-10-23T19:17:55.884Z"
   },
   {
    "duration": 6,
    "start_time": "2022-10-23T19:17:58.888Z"
   },
   {
    "duration": 4,
    "start_time": "2022-10-23T19:19:33.481Z"
   },
   {
    "duration": 5,
    "start_time": "2022-10-23T19:20:00.115Z"
   },
   {
    "duration": 1366,
    "start_time": "2022-10-23T20:01:46.621Z"
   },
   {
    "duration": 31,
    "start_time": "2022-10-23T20:01:47.989Z"
   },
   {
    "duration": 14,
    "start_time": "2022-10-23T20:01:48.022Z"
   },
   {
    "duration": 15,
    "start_time": "2022-10-23T20:01:48.037Z"
   },
   {
    "duration": 4,
    "start_time": "2022-10-23T20:01:48.055Z"
   },
   {
    "duration": 5,
    "start_time": "2022-10-23T20:01:48.060Z"
   },
   {
    "duration": 8,
    "start_time": "2022-10-23T20:01:48.066Z"
   },
   {
    "duration": 6,
    "start_time": "2022-10-23T20:01:48.075Z"
   },
   {
    "duration": 42,
    "start_time": "2022-10-23T20:01:48.083Z"
   },
   {
    "duration": 5,
    "start_time": "2022-10-23T20:01:48.127Z"
   },
   {
    "duration": 14,
    "start_time": "2022-10-23T20:01:48.133Z"
   },
   {
    "duration": 4,
    "start_time": "2022-10-23T20:01:48.149Z"
   },
   {
    "duration": 6,
    "start_time": "2022-10-23T20:01:48.155Z"
   },
   {
    "duration": 6,
    "start_time": "2022-10-23T20:01:48.164Z"
   },
   {
    "duration": 5,
    "start_time": "2022-10-23T20:01:48.171Z"
   },
   {
    "duration": 7,
    "start_time": "2022-10-23T20:01:48.177Z"
   },
   {
    "duration": 4,
    "start_time": "2022-10-23T20:01:48.186Z"
   },
   {
    "duration": 18,
    "start_time": "2022-10-23T20:01:48.191Z"
   },
   {
    "duration": 15,
    "start_time": "2022-10-23T20:01:48.216Z"
   },
   {
    "duration": 12,
    "start_time": "2022-10-23T20:01:48.232Z"
   },
   {
    "duration": 3,
    "start_time": "2022-10-23T20:01:48.245Z"
   },
   {
    "duration": 6,
    "start_time": "2022-10-23T20:01:48.249Z"
   },
   {
    "duration": 10,
    "start_time": "2022-10-23T20:01:48.256Z"
   },
   {
    "duration": 14,
    "start_time": "2022-10-23T20:01:48.267Z"
   },
   {
    "duration": 40,
    "start_time": "2022-10-23T20:01:48.282Z"
   },
   {
    "duration": 6,
    "start_time": "2022-10-23T20:01:48.324Z"
   },
   {
    "duration": 6,
    "start_time": "2022-10-23T20:01:48.332Z"
   },
   {
    "duration": 6,
    "start_time": "2022-10-23T20:01:48.339Z"
   },
   {
    "duration": 5,
    "start_time": "2022-10-23T20:01:48.346Z"
   },
   {
    "duration": 5,
    "start_time": "2022-10-23T20:01:48.352Z"
   },
   {
    "duration": 16,
    "start_time": "2022-10-23T20:01:48.359Z"
   },
   {
    "duration": 4,
    "start_time": "2022-10-23T20:01:48.376Z"
   },
   {
    "duration": 99,
    "start_time": "2022-10-23T20:01:48.420Z"
   },
   {
    "duration": 9,
    "start_time": "2022-10-23T20:01:48.521Z"
   },
   {
    "duration": 86,
    "start_time": "2022-10-23T20:01:48.533Z"
   },
   {
    "duration": 87,
    "start_time": "2022-10-23T20:01:48.623Z"
   },
   {
    "duration": 161,
    "start_time": "2022-10-23T20:01:48.711Z"
   },
   {
    "duration": 3,
    "start_time": "2022-10-23T20:01:48.874Z"
   },
   {
    "duration": 25,
    "start_time": "2022-10-23T20:01:48.879Z"
   },
   {
    "duration": 15,
    "start_time": "2022-10-23T20:01:48.905Z"
   },
   {
    "duration": 5,
    "start_time": "2022-10-23T20:01:54.544Z"
   },
   {
    "duration": 4,
    "start_time": "2022-10-23T20:02:58.565Z"
   },
   {
    "duration": 8,
    "start_time": "2022-10-23T20:04:06.585Z"
   },
   {
    "duration": 182,
    "start_time": "2022-10-23T20:35:20.148Z"
   },
   {
    "duration": 1286,
    "start_time": "2022-10-23T20:35:47.632Z"
   },
   {
    "duration": 28,
    "start_time": "2022-10-23T20:35:48.921Z"
   },
   {
    "duration": 12,
    "start_time": "2022-10-23T20:35:48.950Z"
   },
   {
    "duration": 15,
    "start_time": "2022-10-23T20:35:48.964Z"
   },
   {
    "duration": 4,
    "start_time": "2022-10-23T20:35:48.980Z"
   },
   {
    "duration": 7,
    "start_time": "2022-10-23T20:35:48.985Z"
   },
   {
    "duration": 6,
    "start_time": "2022-10-23T20:35:49.009Z"
   },
   {
    "duration": 8,
    "start_time": "2022-10-23T20:35:49.017Z"
   },
   {
    "duration": 8,
    "start_time": "2022-10-23T20:35:49.027Z"
   },
   {
    "duration": 6,
    "start_time": "2022-10-23T20:35:49.038Z"
   },
   {
    "duration": 14,
    "start_time": "2022-10-23T20:35:49.045Z"
   },
   {
    "duration": 5,
    "start_time": "2022-10-23T20:35:49.060Z"
   },
   {
    "duration": 6,
    "start_time": "2022-10-23T20:35:49.066Z"
   },
   {
    "duration": 5,
    "start_time": "2022-10-23T20:35:49.074Z"
   },
   {
    "duration": 3,
    "start_time": "2022-10-23T20:35:49.113Z"
   },
   {
    "duration": 7,
    "start_time": "2022-10-23T20:35:49.117Z"
   },
   {
    "duration": 8,
    "start_time": "2022-10-23T20:35:49.126Z"
   },
   {
    "duration": 9,
    "start_time": "2022-10-23T20:35:49.135Z"
   },
   {
    "duration": 16,
    "start_time": "2022-10-23T20:35:49.145Z"
   },
   {
    "duration": 10,
    "start_time": "2022-10-23T20:35:49.162Z"
   },
   {
    "duration": 2,
    "start_time": "2022-10-23T20:35:49.173Z"
   },
   {
    "duration": 5,
    "start_time": "2022-10-23T20:35:49.177Z"
   },
   {
    "duration": 10,
    "start_time": "2022-10-23T20:35:49.184Z"
   },
   {
    "duration": 22,
    "start_time": "2022-10-23T20:35:49.209Z"
   },
   {
    "duration": 14,
    "start_time": "2022-10-23T20:35:49.233Z"
   },
   {
    "duration": 5,
    "start_time": "2022-10-23T20:35:49.249Z"
   },
   {
    "duration": 6,
    "start_time": "2022-10-23T20:35:49.256Z"
   },
   {
    "duration": 8,
    "start_time": "2022-10-23T20:35:49.265Z"
   },
   {
    "duration": 6,
    "start_time": "2022-10-23T20:35:49.274Z"
   },
   {
    "duration": 6,
    "start_time": "2022-10-23T20:35:49.281Z"
   },
   {
    "duration": 36,
    "start_time": "2022-10-23T20:35:49.288Z"
   },
   {
    "duration": 8,
    "start_time": "2022-10-23T20:35:49.325Z"
   },
   {
    "duration": 183,
    "start_time": "2022-10-23T20:35:49.334Z"
   },
   {
    "duration": 11,
    "start_time": "2022-10-23T20:35:49.519Z"
   },
   {
    "duration": 7,
    "start_time": "2022-10-23T20:35:49.531Z"
   },
   {
    "duration": 176,
    "start_time": "2022-10-23T20:35:49.539Z"
   },
   {
    "duration": 133,
    "start_time": "2022-10-23T20:35:49.716Z"
   },
   {
    "duration": 3,
    "start_time": "2022-10-23T20:35:49.851Z"
   },
   {
    "duration": 23,
    "start_time": "2022-10-23T20:35:49.856Z"
   },
   {
    "duration": 4,
    "start_time": "2022-10-23T20:35:49.881Z"
   },
   {
    "duration": 7,
    "start_time": "2022-10-23T20:35:49.886Z"
   },
   {
    "duration": 20,
    "start_time": "2022-10-23T20:35:49.895Z"
   },
   {
    "duration": 161,
    "start_time": "2022-10-23T20:35:55.144Z"
   },
   {
    "duration": 171,
    "start_time": "2022-10-23T20:38:14.562Z"
   },
   {
    "duration": 1308,
    "start_time": "2022-10-23T20:48:41.550Z"
   },
   {
    "duration": 28,
    "start_time": "2022-10-23T20:48:42.860Z"
   },
   {
    "duration": 12,
    "start_time": "2022-10-23T20:48:42.890Z"
   },
   {
    "duration": 32,
    "start_time": "2022-10-23T20:48:42.904Z"
   },
   {
    "duration": 15,
    "start_time": "2022-10-23T20:48:42.937Z"
   },
   {
    "duration": 34,
    "start_time": "2022-10-23T20:48:42.953Z"
   },
   {
    "duration": 31,
    "start_time": "2022-10-23T20:48:42.988Z"
   },
   {
    "duration": 31,
    "start_time": "2022-10-23T20:48:43.021Z"
   },
   {
    "duration": 33,
    "start_time": "2022-10-23T20:48:43.053Z"
   },
   {
    "duration": 28,
    "start_time": "2022-10-23T20:48:43.089Z"
   },
   {
    "duration": 22,
    "start_time": "2022-10-23T20:48:43.118Z"
   },
   {
    "duration": 24,
    "start_time": "2022-10-23T20:48:43.141Z"
   },
   {
    "duration": 16,
    "start_time": "2022-10-23T20:48:43.167Z"
   },
   {
    "duration": 24,
    "start_time": "2022-10-23T20:48:43.184Z"
   },
   {
    "duration": 27,
    "start_time": "2022-10-23T20:48:43.210Z"
   },
   {
    "duration": 20,
    "start_time": "2022-10-23T20:48:43.238Z"
   },
   {
    "duration": 24,
    "start_time": "2022-10-23T20:48:43.260Z"
   },
   {
    "duration": 17,
    "start_time": "2022-10-23T20:48:43.286Z"
   },
   {
    "duration": 28,
    "start_time": "2022-10-23T20:48:43.304Z"
   },
   {
    "duration": 30,
    "start_time": "2022-10-23T20:48:43.333Z"
   },
   {
    "duration": 8,
    "start_time": "2022-10-23T20:48:43.364Z"
   },
   {
    "duration": 25,
    "start_time": "2022-10-23T20:48:43.373Z"
   },
   {
    "duration": 37,
    "start_time": "2022-10-23T20:48:43.400Z"
   },
   {
    "duration": 24,
    "start_time": "2022-10-23T20:48:43.438Z"
   },
   {
    "duration": 16,
    "start_time": "2022-10-23T20:48:43.463Z"
   },
   {
    "duration": 19,
    "start_time": "2022-10-23T20:48:43.481Z"
   },
   {
    "duration": 23,
    "start_time": "2022-10-23T20:48:43.501Z"
   },
   {
    "duration": 32,
    "start_time": "2022-10-23T20:48:43.528Z"
   },
   {
    "duration": 28,
    "start_time": "2022-10-23T20:48:43.562Z"
   },
   {
    "duration": 26,
    "start_time": "2022-10-23T20:48:43.591Z"
   },
   {
    "duration": 33,
    "start_time": "2022-10-23T20:48:43.619Z"
   },
   {
    "duration": 15,
    "start_time": "2022-10-23T20:48:43.654Z"
   },
   {
    "duration": 4,
    "start_time": "2022-10-23T20:48:46.806Z"
   },
   {
    "duration": 4,
    "start_time": "2022-10-23T21:32:30.170Z"
   },
   {
    "duration": 72,
    "start_time": "2022-10-23T21:32:30.175Z"
   },
   {
    "duration": 10,
    "start_time": "2022-10-23T21:32:30.249Z"
   },
   {
    "duration": 25,
    "start_time": "2022-10-23T21:32:30.261Z"
   },
   {
    "duration": 32,
    "start_time": "2022-10-23T21:32:30.287Z"
   },
   {
    "duration": 42,
    "start_time": "2022-10-23T21:32:30.321Z"
   },
   {
    "duration": 24,
    "start_time": "2022-10-23T21:32:30.365Z"
   },
   {
    "duration": 41,
    "start_time": "2022-10-23T21:32:30.391Z"
   },
   {
    "duration": 15,
    "start_time": "2022-10-23T21:32:30.435Z"
   },
   {
    "duration": 12,
    "start_time": "2022-10-23T21:32:30.452Z"
   },
   {
    "duration": 28,
    "start_time": "2022-10-23T21:32:30.465Z"
   },
   {
    "duration": 29,
    "start_time": "2022-10-23T21:32:30.494Z"
   },
   {
    "duration": 31,
    "start_time": "2022-10-23T21:32:30.525Z"
   },
   {
    "duration": 21,
    "start_time": "2022-10-23T21:32:30.558Z"
   },
   {
    "duration": 17,
    "start_time": "2022-10-23T21:32:30.581Z"
   },
   {
    "duration": 16,
    "start_time": "2022-10-23T21:32:30.600Z"
   },
   {
    "duration": 20,
    "start_time": "2022-10-23T21:32:30.617Z"
   },
   {
    "duration": 19,
    "start_time": "2022-10-23T21:32:30.638Z"
   },
   {
    "duration": 30,
    "start_time": "2022-10-23T21:32:30.659Z"
   },
   {
    "duration": 17,
    "start_time": "2022-10-23T21:32:30.690Z"
   },
   {
    "duration": 14,
    "start_time": "2022-10-23T21:32:30.708Z"
   },
   {
    "duration": 13,
    "start_time": "2022-10-23T21:32:30.723Z"
   },
   {
    "duration": 13,
    "start_time": "2022-10-23T21:32:30.737Z"
   },
   {
    "duration": 19,
    "start_time": "2022-10-23T21:32:30.753Z"
   },
   {
    "duration": 13,
    "start_time": "2022-10-23T21:32:30.773Z"
   },
   {
    "duration": 12,
    "start_time": "2022-10-23T21:32:30.787Z"
   },
   {
    "duration": 27,
    "start_time": "2022-10-23T21:32:30.800Z"
   },
   {
    "duration": 15,
    "start_time": "2022-10-23T21:32:30.836Z"
   },
   {
    "duration": 12,
    "start_time": "2022-10-23T21:32:30.853Z"
   },
   {
    "duration": 17,
    "start_time": "2022-10-23T21:32:30.866Z"
   },
   {
    "duration": 23,
    "start_time": "2022-10-23T21:32:30.884Z"
   },
   {
    "duration": 18,
    "start_time": "2022-10-23T21:32:30.908Z"
   },
   {
    "duration": 94,
    "start_time": "2022-10-23T21:32:30.928Z"
   },
   {
    "duration": 102,
    "start_time": "2022-10-23T21:32:31.023Z"
   },
   {
    "duration": 20,
    "start_time": "2022-10-23T21:32:31.127Z"
   },
   {
    "duration": 173,
    "start_time": "2022-10-23T21:32:31.149Z"
   },
   {
    "duration": 21,
    "start_time": "2022-10-23T21:32:31.323Z"
   },
   {
    "duration": 136,
    "start_time": "2022-10-23T21:32:31.346Z"
   },
   {
    "duration": 3,
    "start_time": "2022-10-23T21:32:31.483Z"
   },
   {
    "duration": 43,
    "start_time": "2022-10-23T21:32:31.487Z"
   },
   {
    "duration": 5,
    "start_time": "2022-10-23T21:32:31.532Z"
   },
   {
    "duration": 37,
    "start_time": "2022-10-23T21:32:31.538Z"
   },
   {
    "duration": 24,
    "start_time": "2022-10-23T21:32:31.576Z"
   },
   {
    "duration": 121,
    "start_time": "2022-10-23T21:32:36.752Z"
   },
   {
    "duration": 4,
    "start_time": "2022-10-23T21:33:16.254Z"
   },
   {
    "duration": 89,
    "start_time": "2022-10-23T21:33:24.190Z"
   },
   {
    "duration": 1458,
    "start_time": "2022-10-24T08:51:45.658Z"
   },
   {
    "duration": 178,
    "start_time": "2022-10-24T08:51:47.118Z"
   },
   {
    "duration": 13,
    "start_time": "2022-10-24T08:51:47.297Z"
   },
   {
    "duration": 17,
    "start_time": "2022-10-24T08:51:47.313Z"
   },
   {
    "duration": 5,
    "start_time": "2022-10-24T08:51:47.332Z"
   },
   {
    "duration": 7,
    "start_time": "2022-10-24T08:51:47.338Z"
   },
   {
    "duration": 6,
    "start_time": "2022-10-24T08:51:47.347Z"
   },
   {
    "duration": 5,
    "start_time": "2022-10-24T08:51:47.355Z"
   },
   {
    "duration": 12,
    "start_time": "2022-10-24T08:51:47.362Z"
   },
   {
    "duration": 8,
    "start_time": "2022-10-24T08:51:47.376Z"
   },
   {
    "duration": 13,
    "start_time": "2022-10-24T08:51:47.385Z"
   },
   {
    "duration": 21,
    "start_time": "2022-10-24T08:51:47.400Z"
   },
   {
    "duration": 5,
    "start_time": "2022-10-24T08:51:47.423Z"
   },
   {
    "duration": 5,
    "start_time": "2022-10-24T08:51:47.430Z"
   },
   {
    "duration": 4,
    "start_time": "2022-10-24T08:51:47.436Z"
   },
   {
    "duration": 6,
    "start_time": "2022-10-24T08:51:47.442Z"
   },
   {
    "duration": 7,
    "start_time": "2022-10-24T08:51:47.449Z"
   },
   {
    "duration": 18,
    "start_time": "2022-10-24T08:51:47.458Z"
   },
   {
    "duration": 10,
    "start_time": "2022-10-24T08:51:47.477Z"
   },
   {
    "duration": 9,
    "start_time": "2022-10-24T08:51:47.489Z"
   },
   {
    "duration": 2,
    "start_time": "2022-10-24T08:51:47.500Z"
   },
   {
    "duration": 3,
    "start_time": "2022-10-24T08:51:47.521Z"
   },
   {
    "duration": 11,
    "start_time": "2022-10-24T08:51:47.525Z"
   },
   {
    "duration": 13,
    "start_time": "2022-10-24T08:51:47.538Z"
   },
   {
    "duration": 10,
    "start_time": "2022-10-24T08:51:47.553Z"
   },
   {
    "duration": 4,
    "start_time": "2022-10-24T08:51:47.565Z"
   },
   {
    "duration": 11,
    "start_time": "2022-10-24T08:51:47.570Z"
   },
   {
    "duration": 7,
    "start_time": "2022-10-24T08:51:47.583Z"
   },
   {
    "duration": 31,
    "start_time": "2022-10-24T08:51:47.591Z"
   },
   {
    "duration": 3,
    "start_time": "2022-10-24T08:51:47.623Z"
   },
   {
    "duration": 18,
    "start_time": "2022-10-24T08:51:47.627Z"
   },
   {
    "duration": 6,
    "start_time": "2022-10-24T08:51:47.646Z"
   },
   {
    "duration": 71,
    "start_time": "2022-10-24T08:51:47.654Z"
   },
   {
    "duration": 105,
    "start_time": "2022-10-24T08:51:47.726Z"
   },
   {
    "duration": 5,
    "start_time": "2022-10-24T08:51:47.833Z"
   },
   {
    "duration": 89,
    "start_time": "2022-10-24T08:51:47.840Z"
   },
   {
    "duration": 96,
    "start_time": "2022-10-24T08:51:47.930Z"
   },
   {
    "duration": 102,
    "start_time": "2022-10-24T08:51:48.028Z"
   },
   {
    "duration": 2,
    "start_time": "2022-10-24T08:51:48.132Z"
   },
   {
    "duration": 19,
    "start_time": "2022-10-24T08:51:48.136Z"
   },
   {
    "duration": 4,
    "start_time": "2022-10-24T08:51:48.156Z"
   },
   {
    "duration": 9,
    "start_time": "2022-10-24T08:51:48.161Z"
   },
   {
    "duration": 9,
    "start_time": "2022-10-24T08:51:48.171Z"
   },
   {
    "duration": 88,
    "start_time": "2022-10-24T08:51:48.181Z"
   },
   {
    "duration": 52686,
    "start_time": "2022-10-24T08:51:55.651Z"
   },
   {
    "duration": 3,
    "start_time": "2022-10-24T09:51:44.703Z"
   },
   {
    "duration": 4,
    "start_time": "2022-10-24T09:51:51.085Z"
   },
   {
    "duration": 4,
    "start_time": "2022-10-24T09:51:54.014Z"
   },
   {
    "duration": 5,
    "start_time": "2022-10-24T09:52:18.990Z"
   },
   {
    "duration": 517,
    "start_time": "2022-10-24T09:53:18.191Z"
   },
   {
    "duration": 2831,
    "start_time": "2022-10-24T09:53:34.667Z"
   },
   {
    "duration": 474,
    "start_time": "2022-10-24T09:53:51.457Z"
   },
   {
    "duration": 501,
    "start_time": "2022-10-24T09:54:02.081Z"
   },
   {
    "duration": 527,
    "start_time": "2022-10-24T09:54:09.409Z"
   },
   {
    "duration": 544,
    "start_time": "2022-10-24T09:54:18.560Z"
   },
   {
    "duration": 791,
    "start_time": "2022-10-24T09:54:35.056Z"
   },
   {
    "duration": 4995,
    "start_time": "2022-10-24T09:55:08.515Z"
   },
   {
    "duration": 4764,
    "start_time": "2022-10-24T09:55:46.978Z"
   },
   {
    "duration": 98,
    "start_time": "2022-10-24T10:00:03.491Z"
   },
   {
    "duration": 474,
    "start_time": "2022-10-24T10:00:22.691Z"
   },
   {
    "duration": 4,
    "start_time": "2022-10-24T10:19:39.928Z"
   },
   {
    "duration": 7,
    "start_time": "2022-10-24T10:19:50.655Z"
   },
   {
    "duration": 4,
    "start_time": "2022-10-24T10:20:04.400Z"
   },
   {
    "duration": 4,
    "start_time": "2022-10-24T10:20:19.296Z"
   },
   {
    "duration": 4,
    "start_time": "2022-10-24T10:21:05.792Z"
   },
   {
    "duration": 4,
    "start_time": "2022-10-24T10:21:07.216Z"
   },
   {
    "duration": 6,
    "start_time": "2022-10-24T10:43:01.000Z"
   },
   {
    "duration": 5,
    "start_time": "2022-10-24T10:43:02.061Z"
   },
   {
    "duration": 4,
    "start_time": "2022-10-24T10:45:51.567Z"
   },
   {
    "duration": 4,
    "start_time": "2022-10-24T10:45:52.382Z"
   },
   {
    "duration": 4,
    "start_time": "2022-10-24T10:45:52.798Z"
   },
   {
    "duration": 4,
    "start_time": "2022-10-24T10:45:53.231Z"
   },
   {
    "duration": 7,
    "start_time": "2022-10-24T10:48:36.801Z"
   },
   {
    "duration": 4,
    "start_time": "2022-10-24T10:48:37.393Z"
   },
   {
    "duration": 6,
    "start_time": "2022-10-24T10:48:37.939Z"
   },
   {
    "duration": 12,
    "start_time": "2022-10-24T10:59:18.519Z"
   },
   {
    "duration": 5,
    "start_time": "2022-10-24T10:59:19.799Z"
   },
   {
    "duration": 9,
    "start_time": "2022-10-24T10:59:53.933Z"
   },
   {
    "duration": 3,
    "start_time": "2022-10-24T11:00:01.735Z"
   },
   {
    "duration": 5,
    "start_time": "2022-10-24T11:00:19.688Z"
   },
   {
    "duration": 3,
    "start_time": "2022-10-24T11:00:29.177Z"
   },
   {
    "duration": 4,
    "start_time": "2022-10-24T11:00:38.618Z"
   },
   {
    "duration": 5,
    "start_time": "2022-10-24T11:00:42.953Z"
   },
   {
    "duration": 4,
    "start_time": "2022-10-24T11:02:29.339Z"
   },
   {
    "duration": 4,
    "start_time": "2022-10-24T11:02:30.042Z"
   },
   {
    "duration": 4,
    "start_time": "2022-10-24T11:02:30.538Z"
   },
   {
    "duration": 4,
    "start_time": "2022-10-24T11:14:22.138Z"
   },
   {
    "duration": 14,
    "start_time": "2022-10-24T11:14:38.420Z"
   },
   {
    "duration": 70,
    "start_time": "2022-10-24T11:15:54.579Z"
   },
   {
    "duration": 7,
    "start_time": "2022-10-24T11:16:00.372Z"
   },
   {
    "duration": 7,
    "start_time": "2022-10-24T11:16:14.101Z"
   },
   {
    "duration": 6,
    "start_time": "2022-10-24T11:17:44.388Z"
   },
   {
    "duration": 8,
    "start_time": "2022-10-24T11:17:44.842Z"
   },
   {
    "duration": 3,
    "start_time": "2022-10-24T11:20:59.207Z"
   },
   {
    "duration": 19,
    "start_time": "2022-10-24T11:20:59.737Z"
   },
   {
    "duration": 7,
    "start_time": "2022-10-24T11:21:00.756Z"
   },
   {
    "duration": 8,
    "start_time": "2022-10-24T11:21:01.686Z"
   },
   {
    "duration": 10,
    "start_time": "2022-10-24T11:21:28.983Z"
   },
   {
    "duration": 1720,
    "start_time": "2022-10-24T16:25:21.334Z"
   },
   {
    "duration": 171,
    "start_time": "2022-10-24T16:25:23.056Z"
   },
   {
    "duration": 16,
    "start_time": "2022-10-24T16:25:23.230Z"
   },
   {
    "duration": 18,
    "start_time": "2022-10-24T16:25:23.249Z"
   },
   {
    "duration": 29,
    "start_time": "2022-10-24T16:25:23.268Z"
   },
   {
    "duration": 29,
    "start_time": "2022-10-24T16:25:23.298Z"
   },
   {
    "duration": 40,
    "start_time": "2022-10-24T16:25:23.328Z"
   },
   {
    "duration": 23,
    "start_time": "2022-10-24T16:25:23.369Z"
   },
   {
    "duration": 32,
    "start_time": "2022-10-24T16:25:23.394Z"
   },
   {
    "duration": 24,
    "start_time": "2022-10-24T16:25:23.430Z"
   },
   {
    "duration": 38,
    "start_time": "2022-10-24T16:25:23.456Z"
   },
   {
    "duration": 15,
    "start_time": "2022-10-24T16:25:23.496Z"
   },
   {
    "duration": 33,
    "start_time": "2022-10-24T16:25:23.512Z"
   },
   {
    "duration": 23,
    "start_time": "2022-10-24T16:25:23.546Z"
   },
   {
    "duration": 28,
    "start_time": "2022-10-24T16:25:23.571Z"
   },
   {
    "duration": 26,
    "start_time": "2022-10-24T16:25:23.601Z"
   },
   {
    "duration": 17,
    "start_time": "2022-10-24T16:25:23.629Z"
   },
   {
    "duration": 33,
    "start_time": "2022-10-24T16:25:23.648Z"
   },
   {
    "duration": 40,
    "start_time": "2022-10-24T16:25:23.683Z"
   },
   {
    "duration": 53,
    "start_time": "2022-10-24T16:25:23.724Z"
   },
   {
    "duration": 37,
    "start_time": "2022-10-24T16:25:23.779Z"
   },
   {
    "duration": 36,
    "start_time": "2022-10-24T16:25:23.818Z"
   },
   {
    "duration": 34,
    "start_time": "2022-10-24T16:25:23.856Z"
   },
   {
    "duration": 51,
    "start_time": "2022-10-24T16:25:23.892Z"
   },
   {
    "duration": 41,
    "start_time": "2022-10-24T16:25:23.945Z"
   },
   {
    "duration": 18,
    "start_time": "2022-10-24T16:25:23.988Z"
   },
   {
    "duration": 30,
    "start_time": "2022-10-24T16:25:24.007Z"
   },
   {
    "duration": 26,
    "start_time": "2022-10-24T16:25:24.042Z"
   },
   {
    "duration": 22,
    "start_time": "2022-10-24T16:25:24.069Z"
   },
   {
    "duration": 26,
    "start_time": "2022-10-24T16:25:24.093Z"
   },
   {
    "duration": 35,
    "start_time": "2022-10-24T16:25:24.121Z"
   },
   {
    "duration": 18,
    "start_time": "2022-10-24T16:25:24.158Z"
   },
   {
    "duration": 114,
    "start_time": "2022-10-24T16:25:24.223Z"
   },
   {
    "duration": 22,
    "start_time": "2022-10-24T16:25:24.339Z"
   },
   {
    "duration": 162,
    "start_time": "2022-10-24T16:25:24.363Z"
   },
   {
    "duration": 26,
    "start_time": "2022-10-24T16:25:24.527Z"
   },
   {
    "duration": 130,
    "start_time": "2022-10-24T16:25:24.555Z"
   },
   {
    "duration": 5,
    "start_time": "2022-10-24T16:25:24.687Z"
   },
   {
    "duration": 15,
    "start_time": "2022-10-24T16:25:24.694Z"
   },
   {
    "duration": 50,
    "start_time": "2022-10-24T16:25:24.711Z"
   },
   {
    "duration": 5,
    "start_time": "2022-10-24T16:25:24.763Z"
   },
   {
    "duration": 0,
    "start_time": "2022-10-24T16:25:24.770Z"
   },
   {
    "duration": 0,
    "start_time": "2022-10-24T16:25:24.772Z"
   },
   {
    "duration": 0,
    "start_time": "2022-10-24T16:25:24.773Z"
   },
   {
    "duration": 0,
    "start_time": "2022-10-24T16:25:24.775Z"
   },
   {
    "duration": 0,
    "start_time": "2022-10-24T16:25:24.776Z"
   },
   {
    "duration": 0,
    "start_time": "2022-10-24T16:25:24.777Z"
   },
   {
    "duration": 0,
    "start_time": "2022-10-24T16:25:24.778Z"
   },
   {
    "duration": 0,
    "start_time": "2022-10-24T16:25:24.780Z"
   },
   {
    "duration": 0,
    "start_time": "2022-10-24T16:25:24.781Z"
   },
   {
    "duration": 0,
    "start_time": "2022-10-24T16:25:24.782Z"
   },
   {
    "duration": 0,
    "start_time": "2022-10-24T16:25:24.784Z"
   },
   {
    "duration": 0,
    "start_time": "2022-10-24T16:25:24.785Z"
   },
   {
    "duration": 0,
    "start_time": "2022-10-24T16:25:24.786Z"
   },
   {
    "duration": 0,
    "start_time": "2022-10-24T16:25:24.787Z"
   },
   {
    "duration": 0,
    "start_time": "2022-10-24T16:25:24.788Z"
   },
   {
    "duration": 0,
    "start_time": "2022-10-24T16:25:24.790Z"
   },
   {
    "duration": 0,
    "start_time": "2022-10-24T16:25:24.824Z"
   },
   {
    "duration": 0,
    "start_time": "2022-10-24T16:25:24.825Z"
   },
   {
    "duration": 0,
    "start_time": "2022-10-24T16:25:24.827Z"
   },
   {
    "duration": 0,
    "start_time": "2022-10-24T16:25:24.829Z"
   },
   {
    "duration": 0,
    "start_time": "2022-10-24T16:25:24.831Z"
   },
   {
    "duration": 0,
    "start_time": "2022-10-24T16:25:24.832Z"
   },
   {
    "duration": 0,
    "start_time": "2022-10-24T16:25:24.834Z"
   },
   {
    "duration": 0,
    "start_time": "2022-10-24T16:25:24.835Z"
   },
   {
    "duration": 0,
    "start_time": "2022-10-24T16:25:24.837Z"
   },
   {
    "duration": 0,
    "start_time": "2022-10-24T16:25:24.838Z"
   },
   {
    "duration": 0,
    "start_time": "2022-10-24T16:25:24.840Z"
   },
   {
    "duration": 0,
    "start_time": "2022-10-24T16:25:24.842Z"
   },
   {
    "duration": 0,
    "start_time": "2022-10-24T16:25:24.843Z"
   },
   {
    "duration": 0,
    "start_time": "2022-10-24T16:25:24.844Z"
   },
   {
    "duration": 0,
    "start_time": "2022-10-24T16:25:24.846Z"
   },
   {
    "duration": 0,
    "start_time": "2022-10-24T16:25:24.849Z"
   },
   {
    "duration": 0,
    "start_time": "2022-10-24T16:25:24.850Z"
   },
   {
    "duration": 0,
    "start_time": "2022-10-24T16:25:24.852Z"
   },
   {
    "duration": 0,
    "start_time": "2022-10-24T16:25:24.853Z"
   },
   {
    "duration": 0,
    "start_time": "2022-10-24T16:25:24.854Z"
   },
   {
    "duration": 0,
    "start_time": "2022-10-24T16:25:24.855Z"
   },
   {
    "duration": 0,
    "start_time": "2022-10-24T16:25:24.856Z"
   },
   {
    "duration": 0,
    "start_time": "2022-10-24T16:25:24.857Z"
   },
   {
    "duration": 0,
    "start_time": "2022-10-24T16:25:24.858Z"
   },
   {
    "duration": 0,
    "start_time": "2022-10-24T16:25:24.859Z"
   },
   {
    "duration": 0,
    "start_time": "2022-10-24T16:25:24.860Z"
   },
   {
    "duration": 0,
    "start_time": "2022-10-24T16:25:24.861Z"
   },
   {
    "duration": 0,
    "start_time": "2022-10-24T16:25:24.924Z"
   },
   {
    "duration": 0,
    "start_time": "2022-10-24T16:25:24.925Z"
   },
   {
    "duration": 0,
    "start_time": "2022-10-24T16:25:24.926Z"
   },
   {
    "duration": 0,
    "start_time": "2022-10-24T16:25:24.927Z"
   },
   {
    "duration": 0,
    "start_time": "2022-10-24T16:25:24.928Z"
   },
   {
    "duration": 0,
    "start_time": "2022-10-24T16:25:24.929Z"
   },
   {
    "duration": 196,
    "start_time": "2022-10-24T16:25:24.934Z"
   },
   {
    "duration": 0,
    "start_time": "2022-10-24T16:25:25.132Z"
   },
   {
    "duration": 0,
    "start_time": "2022-10-24T16:25:25.134Z"
   },
   {
    "duration": 0,
    "start_time": "2022-10-24T16:25:25.135Z"
   },
   {
    "duration": 0,
    "start_time": "2022-10-24T16:25:25.137Z"
   },
   {
    "duration": 75,
    "start_time": "2022-10-24T16:25:25.438Z"
   },
   {
    "duration": 3,
    "start_time": "2022-10-24T16:25:26.124Z"
   },
   {
    "duration": 10,
    "start_time": "2022-10-24T16:25:26.443Z"
   },
   {
    "duration": 14,
    "start_time": "2022-10-24T16:25:26.455Z"
   },
   {
    "duration": 103,
    "start_time": "2022-10-24T16:25:26.525Z"
   },
   {
    "duration": 22,
    "start_time": "2022-10-24T16:25:26.631Z"
   },
   {
    "duration": 10,
    "start_time": "2022-10-24T16:25:27.157Z"
   },
   {
    "duration": 0,
    "start_time": "2022-10-24T16:25:27.168Z"
   },
   {
    "duration": 0,
    "start_time": "2022-10-24T16:25:27.169Z"
   },
   {
    "duration": 0,
    "start_time": "2022-10-24T16:25:27.170Z"
   },
   {
    "duration": 9,
    "start_time": "2022-10-24T16:25:27.835Z"
   },
   {
    "duration": 0,
    "start_time": "2022-10-24T16:25:27.846Z"
   },
   {
    "duration": 0,
    "start_time": "2022-10-24T16:25:27.847Z"
   },
   {
    "duration": 0,
    "start_time": "2022-10-24T16:25:27.848Z"
   },
   {
    "duration": 1571,
    "start_time": "2022-10-24T16:27:34.122Z"
   },
   {
    "duration": 44,
    "start_time": "2022-10-24T16:27:35.695Z"
   },
   {
    "duration": 14,
    "start_time": "2022-10-24T16:27:35.741Z"
   },
   {
    "duration": 19,
    "start_time": "2022-10-24T16:27:35.758Z"
   },
   {
    "duration": 15,
    "start_time": "2022-10-24T16:27:35.779Z"
   },
   {
    "duration": 12,
    "start_time": "2022-10-24T16:27:35.796Z"
   },
   {
    "duration": 5,
    "start_time": "2022-10-24T16:27:35.824Z"
   },
   {
    "duration": 19,
    "start_time": "2022-10-24T16:27:35.831Z"
   },
   {
    "duration": 18,
    "start_time": "2022-10-24T16:27:35.852Z"
   },
   {
    "duration": 4,
    "start_time": "2022-10-24T16:27:35.873Z"
   },
   {
    "duration": 14,
    "start_time": "2022-10-24T16:27:35.879Z"
   },
   {
    "duration": 4,
    "start_time": "2022-10-24T16:27:35.895Z"
   },
   {
    "duration": 5,
    "start_time": "2022-10-24T16:27:35.924Z"
   },
   {
    "duration": 6,
    "start_time": "2022-10-24T16:27:35.931Z"
   },
   {
    "duration": 5,
    "start_time": "2022-10-24T16:27:35.938Z"
   },
   {
    "duration": 5,
    "start_time": "2022-10-24T16:27:35.945Z"
   },
   {
    "duration": 4,
    "start_time": "2022-10-24T16:27:35.952Z"
   },
   {
    "duration": 9,
    "start_time": "2022-10-24T16:27:35.957Z"
   },
   {
    "duration": 56,
    "start_time": "2022-10-24T16:27:35.968Z"
   },
   {
    "duration": 13,
    "start_time": "2022-10-24T16:27:36.026Z"
   },
   {
    "duration": 2,
    "start_time": "2022-10-24T16:27:36.041Z"
   },
   {
    "duration": 5,
    "start_time": "2022-10-24T16:27:36.045Z"
   },
   {
    "duration": 12,
    "start_time": "2022-10-24T16:27:36.052Z"
   },
   {
    "duration": 15,
    "start_time": "2022-10-24T16:27:36.065Z"
   },
   {
    "duration": 46,
    "start_time": "2022-10-24T16:27:36.082Z"
   },
   {
    "duration": 4,
    "start_time": "2022-10-24T16:27:36.130Z"
   },
   {
    "duration": 5,
    "start_time": "2022-10-24T16:27:36.136Z"
   },
   {
    "duration": 6,
    "start_time": "2022-10-24T16:27:36.146Z"
   },
   {
    "duration": 6,
    "start_time": "2022-10-24T16:27:36.153Z"
   },
   {
    "duration": 7,
    "start_time": "2022-10-24T16:27:36.160Z"
   },
   {
    "duration": 55,
    "start_time": "2022-10-24T16:27:36.169Z"
   },
   {
    "duration": 15,
    "start_time": "2022-10-24T16:27:36.226Z"
   },
   {
    "duration": 182,
    "start_time": "2022-10-24T16:27:36.243Z"
   },
   {
    "duration": 7,
    "start_time": "2022-10-24T16:27:36.428Z"
   },
   {
    "duration": 4,
    "start_time": "2022-10-24T16:27:36.438Z"
   },
   {
    "duration": 89,
    "start_time": "2022-10-24T16:27:36.444Z"
   },
   {
    "duration": 131,
    "start_time": "2022-10-24T16:27:36.623Z"
   },
   {
    "duration": 4,
    "start_time": "2022-10-24T16:27:36.756Z"
   },
   {
    "duration": 4,
    "start_time": "2022-10-24T16:27:36.762Z"
   },
   {
    "duration": 27,
    "start_time": "2022-10-24T16:27:36.768Z"
   },
   {
    "duration": 5,
    "start_time": "2022-10-24T16:27:36.796Z"
   },
   {
    "duration": 0,
    "start_time": "2022-10-24T16:27:36.824Z"
   },
   {
    "duration": 0,
    "start_time": "2022-10-24T16:27:36.826Z"
   },
   {
    "duration": 0,
    "start_time": "2022-10-24T16:27:36.827Z"
   },
   {
    "duration": 0,
    "start_time": "2022-10-24T16:27:36.829Z"
   },
   {
    "duration": 0,
    "start_time": "2022-10-24T16:27:36.829Z"
   },
   {
    "duration": 0,
    "start_time": "2022-10-24T16:27:36.831Z"
   },
   {
    "duration": 0,
    "start_time": "2022-10-24T16:27:36.832Z"
   },
   {
    "duration": 0,
    "start_time": "2022-10-24T16:27:36.833Z"
   },
   {
    "duration": 0,
    "start_time": "2022-10-24T16:27:36.834Z"
   },
   {
    "duration": 0,
    "start_time": "2022-10-24T16:27:36.835Z"
   },
   {
    "duration": 0,
    "start_time": "2022-10-24T16:27:36.836Z"
   },
   {
    "duration": 0,
    "start_time": "2022-10-24T16:27:36.837Z"
   },
   {
    "duration": 0,
    "start_time": "2022-10-24T16:27:36.839Z"
   },
   {
    "duration": 0,
    "start_time": "2022-10-24T16:27:36.840Z"
   },
   {
    "duration": 0,
    "start_time": "2022-10-24T16:27:36.841Z"
   },
   {
    "duration": 0,
    "start_time": "2022-10-24T16:27:36.842Z"
   },
   {
    "duration": 0,
    "start_time": "2022-10-24T16:27:36.843Z"
   },
   {
    "duration": 0,
    "start_time": "2022-10-24T16:27:36.844Z"
   },
   {
    "duration": 0,
    "start_time": "2022-10-24T16:27:36.845Z"
   },
   {
    "duration": 0,
    "start_time": "2022-10-24T16:27:36.847Z"
   },
   {
    "duration": 0,
    "start_time": "2022-10-24T16:27:36.848Z"
   },
   {
    "duration": 0,
    "start_time": "2022-10-24T16:27:36.849Z"
   },
   {
    "duration": 0,
    "start_time": "2022-10-24T16:27:36.851Z"
   },
   {
    "duration": 0,
    "start_time": "2022-10-24T16:27:36.852Z"
   },
   {
    "duration": 0,
    "start_time": "2022-10-24T16:27:36.854Z"
   },
   {
    "duration": 0,
    "start_time": "2022-10-24T16:27:36.855Z"
   },
   {
    "duration": 0,
    "start_time": "2022-10-24T16:27:36.856Z"
   },
   {
    "duration": 0,
    "start_time": "2022-10-24T16:27:36.857Z"
   },
   {
    "duration": 0,
    "start_time": "2022-10-24T16:27:36.858Z"
   },
   {
    "duration": 0,
    "start_time": "2022-10-24T16:27:36.859Z"
   },
   {
    "duration": 0,
    "start_time": "2022-10-24T16:27:36.860Z"
   },
   {
    "duration": 0,
    "start_time": "2022-10-24T16:27:36.861Z"
   },
   {
    "duration": 0,
    "start_time": "2022-10-24T16:27:36.862Z"
   },
   {
    "duration": 0,
    "start_time": "2022-10-24T16:27:36.925Z"
   },
   {
    "duration": 0,
    "start_time": "2022-10-24T16:27:36.926Z"
   },
   {
    "duration": 0,
    "start_time": "2022-10-24T16:27:36.927Z"
   },
   {
    "duration": 0,
    "start_time": "2022-10-24T16:27:36.928Z"
   },
   {
    "duration": 0,
    "start_time": "2022-10-24T16:27:36.930Z"
   },
   {
    "duration": 0,
    "start_time": "2022-10-24T16:27:36.931Z"
   },
   {
    "duration": 0,
    "start_time": "2022-10-24T16:27:36.932Z"
   },
   {
    "duration": 0,
    "start_time": "2022-10-24T16:27:36.933Z"
   },
   {
    "duration": 0,
    "start_time": "2022-10-24T16:27:36.935Z"
   },
   {
    "duration": 0,
    "start_time": "2022-10-24T16:27:36.936Z"
   },
   {
    "duration": 0,
    "start_time": "2022-10-24T16:27:36.937Z"
   },
   {
    "duration": 0,
    "start_time": "2022-10-24T16:27:36.938Z"
   },
   {
    "duration": 0,
    "start_time": "2022-10-24T16:27:36.939Z"
   },
   {
    "duration": 0,
    "start_time": "2022-10-24T16:27:36.940Z"
   },
   {
    "duration": 0,
    "start_time": "2022-10-24T16:27:36.941Z"
   },
   {
    "duration": 0,
    "start_time": "2022-10-24T16:27:36.942Z"
   },
   {
    "duration": 0,
    "start_time": "2022-10-24T16:27:36.943Z"
   },
   {
    "duration": 0,
    "start_time": "2022-10-24T16:27:36.943Z"
   },
   {
    "duration": 0,
    "start_time": "2022-10-24T16:27:36.945Z"
   },
   {
    "duration": 0,
    "start_time": "2022-10-24T16:27:36.946Z"
   },
   {
    "duration": 0,
    "start_time": "2022-10-24T16:27:36.947Z"
   },
   {
    "duration": 0,
    "start_time": "2022-10-24T16:27:36.949Z"
   },
   {
    "duration": 0,
    "start_time": "2022-10-24T16:27:36.951Z"
   },
   {
    "duration": 0,
    "start_time": "2022-10-24T16:27:36.953Z"
   },
   {
    "duration": 0,
    "start_time": "2022-10-24T16:27:36.955Z"
   },
   {
    "duration": 0,
    "start_time": "2022-10-24T16:27:36.956Z"
   },
   {
    "duration": 0,
    "start_time": "2022-10-24T16:27:36.958Z"
   },
   {
    "duration": 0,
    "start_time": "2022-10-24T16:27:36.959Z"
   },
   {
    "duration": 0,
    "start_time": "2022-10-24T16:27:36.961Z"
   },
   {
    "duration": 0,
    "start_time": "2022-10-24T16:27:36.962Z"
   },
   {
    "duration": 0,
    "start_time": "2022-10-24T16:27:37.025Z"
   },
   {
    "duration": 0,
    "start_time": "2022-10-24T16:27:37.026Z"
   },
   {
    "duration": 0,
    "start_time": "2022-10-24T16:27:37.028Z"
   },
   {
    "duration": 0,
    "start_time": "2022-10-24T16:27:37.029Z"
   },
   {
    "duration": 66969,
    "start_time": "2022-10-24T16:28:13.596Z"
   },
   {
    "duration": 5,
    "start_time": "2022-10-24T16:29:58.217Z"
   },
   {
    "duration": 3,
    "start_time": "2022-10-24T16:29:59.164Z"
   },
   {
    "duration": 4,
    "start_time": "2022-10-24T16:29:59.980Z"
   },
   {
    "duration": 5975,
    "start_time": "2022-10-24T16:30:04.464Z"
   },
   {
    "duration": 683,
    "start_time": "2022-10-24T16:30:14.957Z"
   },
   {
    "duration": 46,
    "start_time": "2022-10-24T16:30:21.613Z"
   },
   {
    "duration": 7,
    "start_time": "2022-10-24T16:30:22.620Z"
   },
   {
    "duration": 5,
    "start_time": "2022-10-24T16:30:31.145Z"
   },
   {
    "duration": 7,
    "start_time": "2022-10-24T16:30:32.847Z"
   },
   {
    "duration": 5,
    "start_time": "2022-10-24T16:30:33.277Z"
   },
   {
    "duration": 4,
    "start_time": "2022-10-24T16:30:33.663Z"
   },
   {
    "duration": 8,
    "start_time": "2022-10-24T16:30:34.108Z"
   },
   {
    "duration": 5,
    "start_time": "2022-10-24T16:30:34.668Z"
   },
   {
    "duration": 7,
    "start_time": "2022-10-24T16:30:35.136Z"
   },
   {
    "duration": 6,
    "start_time": "2022-10-24T16:30:35.677Z"
   },
   {
    "duration": 7,
    "start_time": "2022-10-24T16:30:37.940Z"
   },
   {
    "duration": 11,
    "start_time": "2022-10-24T16:30:47.517Z"
   },
   {
    "duration": 7,
    "start_time": "2022-10-24T16:30:48.092Z"
   },
   {
    "duration": 4,
    "start_time": "2022-10-24T16:30:48.973Z"
   },
   {
    "duration": 4,
    "start_time": "2022-10-24T16:30:49.341Z"
   },
   {
    "duration": 4,
    "start_time": "2022-10-24T16:30:51.165Z"
   },
   {
    "duration": 3,
    "start_time": "2022-10-24T16:31:17.266Z"
   },
   {
    "duration": 25,
    "start_time": "2022-10-24T16:31:17.271Z"
   },
   {
    "duration": 11,
    "start_time": "2022-10-24T16:31:17.297Z"
   },
   {
    "duration": 94,
    "start_time": "2022-10-24T16:31:17.331Z"
   },
   {
    "duration": 20,
    "start_time": "2022-10-24T16:31:17.427Z"
   },
   {
    "duration": 350,
    "start_time": "2022-10-24T16:31:17.451Z"
   },
   {
    "duration": 5,
    "start_time": "2022-10-24T16:31:17.803Z"
   },
   {
    "duration": 6,
    "start_time": "2022-10-24T16:31:17.810Z"
   },
   {
    "duration": 38,
    "start_time": "2022-10-24T16:31:17.826Z"
   },
   {
    "duration": 93992,
    "start_time": "2022-10-24T16:31:17.866Z"
   },
   {
    "duration": 5,
    "start_time": "2022-10-24T16:32:51.861Z"
   },
   {
    "duration": 5,
    "start_time": "2022-10-24T16:32:51.868Z"
   },
   {
    "duration": 6,
    "start_time": "2022-10-24T16:32:51.875Z"
   },
   {
    "duration": 75,
    "start_time": "2022-10-24T16:32:51.883Z"
   },
   {
    "duration": 0,
    "start_time": "2022-10-24T16:32:51.961Z"
   },
   {
    "duration": 0,
    "start_time": "2022-10-24T16:32:51.965Z"
   },
   {
    "duration": 0,
    "start_time": "2022-10-24T16:32:51.967Z"
   },
   {
    "duration": 0,
    "start_time": "2022-10-24T16:32:51.968Z"
   },
   {
    "duration": 0,
    "start_time": "2022-10-24T16:32:51.970Z"
   },
   {
    "duration": 0,
    "start_time": "2022-10-24T16:32:51.972Z"
   },
   {
    "duration": 0,
    "start_time": "2022-10-24T16:32:51.974Z"
   },
   {
    "duration": 0,
    "start_time": "2022-10-24T16:32:51.976Z"
   },
   {
    "duration": 0,
    "start_time": "2022-10-24T16:32:51.979Z"
   },
   {
    "duration": 0,
    "start_time": "2022-10-24T16:32:51.981Z"
   },
   {
    "duration": 0,
    "start_time": "2022-10-24T16:32:51.983Z"
   },
   {
    "duration": 0,
    "start_time": "2022-10-24T16:32:51.985Z"
   },
   {
    "duration": 0,
    "start_time": "2022-10-24T16:32:51.986Z"
   },
   {
    "duration": 0,
    "start_time": "2022-10-24T16:32:51.987Z"
   },
   {
    "duration": 0,
    "start_time": "2022-10-24T16:32:51.989Z"
   },
   {
    "duration": 0,
    "start_time": "2022-10-24T16:32:51.990Z"
   },
   {
    "duration": 0,
    "start_time": "2022-10-24T16:32:51.991Z"
   },
   {
    "duration": 0,
    "start_time": "2022-10-24T16:32:51.993Z"
   },
   {
    "duration": 0,
    "start_time": "2022-10-24T16:32:51.995Z"
   },
   {
    "duration": 0,
    "start_time": "2022-10-24T16:32:51.997Z"
   },
   {
    "duration": 0,
    "start_time": "2022-10-24T16:32:52.000Z"
   },
   {
    "duration": 0,
    "start_time": "2022-10-24T16:32:52.002Z"
   },
   {
    "duration": 0,
    "start_time": "2022-10-24T16:32:52.025Z"
   },
   {
    "duration": 0,
    "start_time": "2022-10-24T16:32:52.026Z"
   },
   {
    "duration": 0,
    "start_time": "2022-10-24T16:32:52.028Z"
   },
   {
    "duration": 0,
    "start_time": "2022-10-24T16:32:52.029Z"
   },
   {
    "duration": 0,
    "start_time": "2022-10-24T16:32:52.030Z"
   },
   {
    "duration": 0,
    "start_time": "2022-10-24T16:32:52.031Z"
   },
   {
    "duration": 0,
    "start_time": "2022-10-24T16:32:52.033Z"
   },
   {
    "duration": 0,
    "start_time": "2022-10-24T16:32:52.035Z"
   },
   {
    "duration": 0,
    "start_time": "2022-10-24T16:32:52.036Z"
   },
   {
    "duration": 0,
    "start_time": "2022-10-24T16:32:52.038Z"
   },
   {
    "duration": 0,
    "start_time": "2022-10-24T16:32:52.041Z"
   },
   {
    "duration": 1881,
    "start_time": "2022-10-24T16:33:17.220Z"
   },
   {
    "duration": 8,
    "start_time": "2022-10-24T16:33:28.751Z"
   },
   {
    "duration": 6,
    "start_time": "2022-10-24T16:33:29.950Z"
   },
   {
    "duration": 6,
    "start_time": "2022-10-24T16:33:30.911Z"
   },
   {
    "duration": 15,
    "start_time": "2022-10-24T16:33:32.223Z"
   },
   {
    "duration": 5,
    "start_time": "2022-10-24T16:33:33.551Z"
   },
   {
    "duration": 4,
    "start_time": "2022-10-24T16:33:35.790Z"
   },
   {
    "duration": 23,
    "start_time": "2022-10-24T16:33:36.318Z"
   },
   {
    "duration": 4,
    "start_time": "2022-10-24T16:33:37.086Z"
   },
   {
    "duration": 5,
    "start_time": "2022-10-24T16:33:38.047Z"
   },
   {
    "duration": 8,
    "start_time": "2022-10-24T16:33:38.536Z"
   },
   {
    "duration": 9,
    "start_time": "2022-10-24T16:33:40.382Z"
   },
   {
    "duration": 75,
    "start_time": "2022-10-24T16:33:55.720Z"
   },
   {
    "duration": 4,
    "start_time": "2022-10-24T16:33:55.797Z"
   },
   {
    "duration": 25,
    "start_time": "2022-10-24T16:33:55.802Z"
   },
   {
    "duration": 19,
    "start_time": "2022-10-24T16:33:55.829Z"
   },
   {
    "duration": 40434,
    "start_time": "2022-10-24T16:33:55.850Z"
   },
   {
    "duration": 5,
    "start_time": "2022-10-24T16:34:36.285Z"
   },
   {
    "duration": 7,
    "start_time": "2022-10-24T16:34:36.291Z"
   },
   {
    "duration": 23,
    "start_time": "2022-10-24T16:34:36.300Z"
   },
   {
    "duration": 71,
    "start_time": "2022-10-24T16:34:36.326Z"
   },
   {
    "duration": 0,
    "start_time": "2022-10-24T16:34:36.400Z"
   },
   {
    "duration": 0,
    "start_time": "2022-10-24T16:34:36.401Z"
   },
   {
    "duration": 0,
    "start_time": "2022-10-24T16:34:36.403Z"
   },
   {
    "duration": 0,
    "start_time": "2022-10-24T16:34:36.404Z"
   },
   {
    "duration": 0,
    "start_time": "2022-10-24T16:34:36.405Z"
   },
   {
    "duration": 0,
    "start_time": "2022-10-24T16:34:36.405Z"
   },
   {
    "duration": 0,
    "start_time": "2022-10-24T16:34:36.407Z"
   },
   {
    "duration": 0,
    "start_time": "2022-10-24T16:34:36.408Z"
   },
   {
    "duration": 0,
    "start_time": "2022-10-24T16:34:36.409Z"
   },
   {
    "duration": 0,
    "start_time": "2022-10-24T16:34:36.410Z"
   },
   {
    "duration": 0,
    "start_time": "2022-10-24T16:34:36.412Z"
   },
   {
    "duration": 0,
    "start_time": "2022-10-24T16:34:36.413Z"
   },
   {
    "duration": 0,
    "start_time": "2022-10-24T16:34:36.414Z"
   },
   {
    "duration": 1242,
    "start_time": "2022-10-24T16:35:09.232Z"
   },
   {
    "duration": 4,
    "start_time": "2022-10-24T16:35:35.775Z"
   },
   {
    "duration": 11,
    "start_time": "2022-10-24T16:35:37.616Z"
   },
   {
    "duration": 6,
    "start_time": "2022-10-24T16:35:38.881Z"
   },
   {
    "duration": 6,
    "start_time": "2022-10-24T16:35:39.615Z"
   },
   {
    "duration": 13,
    "start_time": "2022-10-24T16:35:40.542Z"
   },
   {
    "duration": 13,
    "start_time": "2022-10-24T16:35:44.832Z"
   },
   {
    "duration": 12,
    "start_time": "2022-10-24T16:35:45.407Z"
   },
   {
    "duration": 8,
    "start_time": "2022-10-24T16:35:45.918Z"
   },
   {
    "duration": 17,
    "start_time": "2022-10-24T16:35:46.719Z"
   },
   {
    "duration": 9,
    "start_time": "2022-10-24T16:35:49.968Z"
   },
   {
    "duration": 6,
    "start_time": "2022-10-24T16:35:50.479Z"
   },
   {
    "duration": 5,
    "start_time": "2022-10-24T16:35:50.976Z"
   },
   {
    "duration": 11,
    "start_time": "2022-10-24T16:35:51.778Z"
   },
   {
    "duration": 26,
    "start_time": "2022-10-24T17:12:59.388Z"
   },
   {
    "duration": 5,
    "start_time": "2022-10-24T17:14:21.242Z"
   },
   {
    "duration": 6,
    "start_time": "2022-10-24T17:14:22.335Z"
   },
   {
    "duration": 9,
    "start_time": "2022-10-24T17:14:23.848Z"
   },
   {
    "duration": 37,
    "start_time": "2022-10-24T17:16:36.601Z"
   },
   {
    "duration": 6,
    "start_time": "2022-10-24T17:16:43.150Z"
   },
   {
    "duration": 6,
    "start_time": "2022-10-24T17:16:44.062Z"
   },
   {
    "duration": 12,
    "start_time": "2022-10-24T17:16:45.212Z"
   },
   {
    "duration": 13,
    "start_time": "2022-10-24T17:19:04.607Z"
   },
   {
    "duration": 5,
    "start_time": "2022-10-24T17:19:08.547Z"
   },
   {
    "duration": 9,
    "start_time": "2022-10-24T17:19:09.548Z"
   },
   {
    "duration": 9,
    "start_time": "2022-10-24T17:19:11.612Z"
   },
   {
    "duration": 617,
    "start_time": "2022-10-24T17:22:13.677Z"
   },
   {
    "duration": 51,
    "start_time": "2022-10-24T17:22:16.416Z"
   },
   {
    "duration": 5,
    "start_time": "2022-10-24T17:22:21.364Z"
   },
   {
    "duration": 52,
    "start_time": "2022-10-24T17:22:23.168Z"
   },
   {
    "duration": 1666,
    "start_time": "2022-10-24T17:23:55.967Z"
   },
   {
    "duration": 128,
    "start_time": "2022-10-24T17:24:00.591Z"
   },
   {
    "duration": 9,
    "start_time": "2022-10-24T17:24:06.001Z"
   },
   {
    "duration": 138,
    "start_time": "2022-10-24T17:24:07.407Z"
   },
   {
    "duration": 1206,
    "start_time": "2022-10-24T17:25:04.448Z"
   },
   {
    "duration": 96,
    "start_time": "2022-10-24T17:25:08.845Z"
   },
   {
    "duration": 6,
    "start_time": "2022-10-24T17:25:09.856Z"
   },
   {
    "duration": 99,
    "start_time": "2022-10-24T17:25:11.311Z"
   },
   {
    "duration": 4006,
    "start_time": "2022-10-25T17:26:54.972Z"
   },
   {
    "duration": 41,
    "start_time": "2022-10-25T17:26:58.980Z"
   },
   {
    "duration": 14,
    "start_time": "2022-10-25T17:26:59.023Z"
   },
   {
    "duration": 33,
    "start_time": "2022-10-25T17:26:59.038Z"
   },
   {
    "duration": 39,
    "start_time": "2022-10-25T17:26:59.073Z"
   },
   {
    "duration": 19,
    "start_time": "2022-10-25T17:26:59.115Z"
   },
   {
    "duration": 13,
    "start_time": "2022-10-25T17:26:59.136Z"
   },
   {
    "duration": 18,
    "start_time": "2022-10-25T17:26:59.151Z"
   },
   {
    "duration": 11,
    "start_time": "2022-10-25T17:26:59.171Z"
   },
   {
    "duration": 7,
    "start_time": "2022-10-25T17:26:59.184Z"
   },
   {
    "duration": 17,
    "start_time": "2022-10-25T17:26:59.192Z"
   },
   {
    "duration": 4,
    "start_time": "2022-10-25T17:26:59.211Z"
   },
   {
    "duration": 11,
    "start_time": "2022-10-25T17:26:59.216Z"
   },
   {
    "duration": 4,
    "start_time": "2022-10-25T17:26:59.231Z"
   },
   {
    "duration": 11,
    "start_time": "2022-10-25T17:26:59.237Z"
   },
   {
    "duration": 13,
    "start_time": "2022-10-25T17:26:59.250Z"
   },
   {
    "duration": 17,
    "start_time": "2022-10-25T17:26:59.265Z"
   },
   {
    "duration": 3,
    "start_time": "2022-10-25T17:26:59.283Z"
   },
   {
    "duration": 7,
    "start_time": "2022-10-25T17:26:59.287Z"
   },
   {
    "duration": 32,
    "start_time": "2022-10-25T17:26:59.295Z"
   },
   {
    "duration": 17,
    "start_time": "2022-10-25T17:26:59.329Z"
   },
   {
    "duration": 10,
    "start_time": "2022-10-25T17:26:59.348Z"
   },
   {
    "duration": 7,
    "start_time": "2022-10-25T17:26:59.359Z"
   },
   {
    "duration": 6,
    "start_time": "2022-10-25T17:26:59.368Z"
   },
   {
    "duration": 10,
    "start_time": "2022-10-25T17:26:59.376Z"
   },
   {
    "duration": 35,
    "start_time": "2022-10-25T17:26:59.388Z"
   },
   {
    "duration": 3,
    "start_time": "2022-10-25T17:26:59.425Z"
   },
   {
    "duration": 18,
    "start_time": "2022-10-25T17:26:59.430Z"
   },
   {
    "duration": 7,
    "start_time": "2022-10-25T17:26:59.449Z"
   },
   {
    "duration": 169,
    "start_time": "2022-10-25T17:26:59.457Z"
   },
   {
    "duration": 14,
    "start_time": "2022-10-25T17:26:59.627Z"
   },
   {
    "duration": 84,
    "start_time": "2022-10-25T17:26:59.643Z"
   },
   {
    "duration": 104,
    "start_time": "2022-10-25T17:26:59.729Z"
   },
   {
    "duration": 113,
    "start_time": "2022-10-25T17:26:59.834Z"
   },
   {
    "duration": 5,
    "start_time": "2022-10-25T17:26:59.948Z"
   },
   {
    "duration": 10,
    "start_time": "2022-10-25T17:26:59.954Z"
   },
   {
    "duration": 24,
    "start_time": "2022-10-25T17:26:59.966Z"
   },
   {
    "duration": 52765,
    "start_time": "2022-10-25T17:26:59.992Z"
   },
   {
    "duration": 4,
    "start_time": "2022-10-25T17:27:52.758Z"
   },
   {
    "duration": 7,
    "start_time": "2022-10-25T17:27:52.764Z"
   },
   {
    "duration": 7,
    "start_time": "2022-10-25T17:27:52.774Z"
   },
   {
    "duration": 4794,
    "start_time": "2022-10-25T17:27:52.782Z"
   },
   {
    "duration": 551,
    "start_time": "2022-10-25T17:27:57.577Z"
   },
   {
    "duration": 6,
    "start_time": "2022-10-25T17:27:58.129Z"
   },
   {
    "duration": 5,
    "start_time": "2022-10-25T17:27:58.136Z"
   },
   {
    "duration": 7,
    "start_time": "2022-10-25T17:27:58.143Z"
   },
   {
    "duration": 4,
    "start_time": "2022-10-25T17:27:58.151Z"
   },
   {
    "duration": 7,
    "start_time": "2022-10-25T17:27:58.157Z"
   },
   {
    "duration": 7,
    "start_time": "2022-10-25T17:27:58.165Z"
   },
   {
    "duration": 8,
    "start_time": "2022-10-25T17:27:58.173Z"
   },
   {
    "duration": 6,
    "start_time": "2022-10-25T17:27:58.182Z"
   },
   {
    "duration": 34,
    "start_time": "2022-10-25T17:27:58.189Z"
   },
   {
    "duration": 6,
    "start_time": "2022-10-25T17:27:58.225Z"
   },
   {
    "duration": 6,
    "start_time": "2022-10-25T17:27:58.232Z"
   },
   {
    "duration": 6,
    "start_time": "2022-10-25T17:27:58.240Z"
   },
   {
    "duration": 5,
    "start_time": "2022-10-25T17:29:53.374Z"
   },
   {
    "duration": 12477,
    "start_time": "2022-10-25T21:56:34.674Z"
   },
   {
    "duration": 65,
    "start_time": "2022-10-25T21:57:23.090Z"
   },
   {
    "duration": 1721,
    "start_time": "2022-10-25T21:57:58.195Z"
   },
   {
    "duration": 276,
    "start_time": "2022-10-25T21:58:58.565Z"
   },
   {
    "duration": 165,
    "start_time": "2022-10-25T21:59:02.678Z"
   },
   {
    "duration": 17645,
    "start_time": "2022-10-25T21:59:15.996Z"
   },
   {
    "duration": 47,
    "start_time": "2022-10-26T07:03:34.105Z"
   },
   {
    "duration": 3,
    "start_time": "2022-10-26T11:20:07.450Z"
   },
   {
    "duration": 7,
    "start_time": "2022-10-26T11:20:07.455Z"
   },
   {
    "duration": 1748,
    "start_time": "2022-10-26T11:20:07.465Z"
   },
   {
    "duration": 78,
    "start_time": "2022-10-26T11:20:09.215Z"
   },
   {
    "duration": 113,
    "start_time": "2022-10-26T11:20:09.296Z"
   },
   {
    "duration": 0,
    "start_time": "2022-10-26T11:20:09.412Z"
   },
   {
    "duration": 0,
    "start_time": "2022-10-26T11:20:09.413Z"
   },
   {
    "duration": 0,
    "start_time": "2022-10-26T11:20:09.414Z"
   },
   {
    "duration": 0,
    "start_time": "2022-10-26T11:20:09.416Z"
   },
   {
    "duration": 0,
    "start_time": "2022-10-26T11:20:09.417Z"
   },
   {
    "duration": 0,
    "start_time": "2022-10-26T11:20:09.418Z"
   },
   {
    "duration": 0,
    "start_time": "2022-10-26T11:20:09.419Z"
   },
   {
    "duration": 0,
    "start_time": "2022-10-26T11:20:09.420Z"
   },
   {
    "duration": 0,
    "start_time": "2022-10-26T11:20:09.421Z"
   },
   {
    "duration": 0,
    "start_time": "2022-10-26T11:20:09.422Z"
   },
   {
    "duration": 0,
    "start_time": "2022-10-26T11:20:09.423Z"
   },
   {
    "duration": 0,
    "start_time": "2022-10-26T11:20:09.433Z"
   },
   {
    "duration": 0,
    "start_time": "2022-10-26T11:20:09.434Z"
   },
   {
    "duration": 0,
    "start_time": "2022-10-26T11:20:09.435Z"
   },
   {
    "duration": 0,
    "start_time": "2022-10-26T11:20:09.436Z"
   },
   {
    "duration": 0,
    "start_time": "2022-10-26T11:20:09.437Z"
   },
   {
    "duration": 0,
    "start_time": "2022-10-26T11:20:09.439Z"
   },
   {
    "duration": 0,
    "start_time": "2022-10-26T11:20:09.441Z"
   },
   {
    "duration": 0,
    "start_time": "2022-10-26T11:20:09.442Z"
   },
   {
    "duration": 0,
    "start_time": "2022-10-26T11:20:09.443Z"
   },
   {
    "duration": 0,
    "start_time": "2022-10-26T11:20:09.444Z"
   },
   {
    "duration": 0,
    "start_time": "2022-10-26T11:20:09.446Z"
   },
   {
    "duration": 0,
    "start_time": "2022-10-26T11:20:09.447Z"
   },
   {
    "duration": 0,
    "start_time": "2022-10-26T11:20:09.449Z"
   },
   {
    "duration": 0,
    "start_time": "2022-10-26T11:20:09.450Z"
   },
   {
    "duration": 0,
    "start_time": "2022-10-26T11:20:09.452Z"
   },
   {
    "duration": 0,
    "start_time": "2022-10-26T11:20:09.453Z"
   },
   {
    "duration": 0,
    "start_time": "2022-10-26T11:20:09.455Z"
   },
   {
    "duration": 0,
    "start_time": "2022-10-26T11:20:09.458Z"
   },
   {
    "duration": 0,
    "start_time": "2022-10-26T11:20:09.459Z"
   },
   {
    "duration": 0,
    "start_time": "2022-10-26T11:20:09.461Z"
   },
   {
    "duration": 0,
    "start_time": "2022-10-26T11:20:09.463Z"
   },
   {
    "duration": 0,
    "start_time": "2022-10-26T11:20:09.464Z"
   },
   {
    "duration": 0,
    "start_time": "2022-10-26T11:20:09.465Z"
   },
   {
    "duration": 0,
    "start_time": "2022-10-26T11:20:09.467Z"
   },
   {
    "duration": 0,
    "start_time": "2022-10-26T11:20:09.468Z"
   },
   {
    "duration": 0,
    "start_time": "2022-10-26T11:20:09.469Z"
   },
   {
    "duration": 0,
    "start_time": "2022-10-26T11:20:09.534Z"
   },
   {
    "duration": 0,
    "start_time": "2022-10-26T11:20:09.536Z"
   },
   {
    "duration": 0,
    "start_time": "2022-10-26T11:20:09.538Z"
   },
   {
    "duration": 0,
    "start_time": "2022-10-26T11:20:09.539Z"
   },
   {
    "duration": 0,
    "start_time": "2022-10-26T11:20:09.540Z"
   },
   {
    "duration": 0,
    "start_time": "2022-10-26T11:20:09.541Z"
   },
   {
    "duration": 0,
    "start_time": "2022-10-26T11:20:09.543Z"
   },
   {
    "duration": 0,
    "start_time": "2022-10-26T11:20:09.544Z"
   },
   {
    "duration": 0,
    "start_time": "2022-10-26T11:20:09.545Z"
   },
   {
    "duration": 0,
    "start_time": "2022-10-26T11:20:09.546Z"
   },
   {
    "duration": 0,
    "start_time": "2022-10-26T11:20:09.548Z"
   },
   {
    "duration": 0,
    "start_time": "2022-10-26T11:20:09.549Z"
   },
   {
    "duration": 0,
    "start_time": "2022-10-26T11:20:09.550Z"
   },
   {
    "duration": 0,
    "start_time": "2022-10-26T11:20:09.551Z"
   },
   {
    "duration": 0,
    "start_time": "2022-10-26T11:20:09.552Z"
   },
   {
    "duration": 0,
    "start_time": "2022-10-26T11:20:09.553Z"
   },
   {
    "duration": 0,
    "start_time": "2022-10-26T11:20:09.554Z"
   },
   {
    "duration": 0,
    "start_time": "2022-10-26T11:20:09.555Z"
   },
   {
    "duration": 0,
    "start_time": "2022-10-26T11:20:09.556Z"
   },
   {
    "duration": 2,
    "start_time": "2022-10-26T11:20:46.546Z"
   },
   {
    "duration": 6,
    "start_time": "2022-10-26T11:20:46.550Z"
   },
   {
    "duration": 9,
    "start_time": "2022-10-26T11:20:46.558Z"
   },
   {
    "duration": 43,
    "start_time": "2022-10-26T11:20:46.568Z"
   },
   {
    "duration": 2,
    "start_time": "2022-10-26T11:20:46.613Z"
   },
   {
    "duration": 27,
    "start_time": "2022-10-26T11:20:46.617Z"
   },
   {
    "duration": 17,
    "start_time": "2022-10-26T11:20:46.645Z"
   },
   {
    "duration": 4,
    "start_time": "2022-10-26T11:20:46.664Z"
   },
   {
    "duration": 8,
    "start_time": "2022-10-26T11:20:46.669Z"
   },
   {
    "duration": 7,
    "start_time": "2022-10-26T11:20:46.678Z"
   },
   {
    "duration": 10,
    "start_time": "2022-10-26T11:20:46.687Z"
   },
   {
    "duration": 7,
    "start_time": "2022-10-26T11:20:46.698Z"
   },
   {
    "duration": 7,
    "start_time": "2022-10-26T11:20:46.706Z"
   },
   {
    "duration": 35,
    "start_time": "2022-10-26T11:20:46.714Z"
   },
   {
    "duration": 11,
    "start_time": "2022-10-26T11:20:46.751Z"
   },
   {
    "duration": 7,
    "start_time": "2022-10-26T11:20:46.763Z"
   },
   {
    "duration": 6,
    "start_time": "2022-10-26T11:20:46.772Z"
   },
   {
    "duration": 6,
    "start_time": "2022-10-26T11:20:46.779Z"
   },
   {
    "duration": 11,
    "start_time": "2022-10-26T11:20:46.786Z"
   },
   {
    "duration": 45,
    "start_time": "2022-10-26T11:20:46.798Z"
   },
   {
    "duration": 3,
    "start_time": "2022-10-26T11:20:46.844Z"
   },
   {
    "duration": 7,
    "start_time": "2022-10-26T11:20:46.848Z"
   },
   {
    "duration": 10,
    "start_time": "2022-10-26T11:20:46.857Z"
   },
   {
    "duration": 12,
    "start_time": "2022-10-26T11:20:46.868Z"
   },
   {
    "duration": 11,
    "start_time": "2022-10-26T11:20:46.882Z"
   },
   {
    "duration": 7,
    "start_time": "2022-10-26T11:20:46.895Z"
   },
   {
    "duration": 36,
    "start_time": "2022-10-26T11:20:46.903Z"
   },
   {
    "duration": 6,
    "start_time": "2022-10-26T11:20:46.946Z"
   },
   {
    "duration": 6,
    "start_time": "2022-10-26T11:20:46.955Z"
   },
   {
    "duration": 10,
    "start_time": "2022-10-26T11:20:46.963Z"
   },
   {
    "duration": 19,
    "start_time": "2022-10-26T11:20:46.975Z"
   },
   {
    "duration": 45,
    "start_time": "2022-10-26T11:20:46.995Z"
   },
   {
    "duration": 96,
    "start_time": "2022-10-26T11:20:47.045Z"
   },
   {
    "duration": 9,
    "start_time": "2022-10-26T11:20:47.143Z"
   },
   {
    "duration": 188,
    "start_time": "2022-10-26T11:20:47.154Z"
   },
   {
    "duration": 15,
    "start_time": "2022-10-26T11:20:47.343Z"
   },
   {
    "duration": 109,
    "start_time": "2022-10-26T11:20:47.359Z"
   },
   {
    "duration": 3,
    "start_time": "2022-10-26T11:20:47.470Z"
   },
   {
    "duration": 7,
    "start_time": "2022-10-26T11:20:47.475Z"
   },
   {
    "duration": 25,
    "start_time": "2022-10-26T11:20:47.483Z"
   },
   {
    "duration": 58910,
    "start_time": "2022-10-26T11:20:47.509Z"
   },
   {
    "duration": 4,
    "start_time": "2022-10-26T11:21:46.421Z"
   },
   {
    "duration": 32,
    "start_time": "2022-10-26T11:21:46.427Z"
   },
   {
    "duration": 14,
    "start_time": "2022-10-26T11:21:46.461Z"
   },
   {
    "duration": 5317,
    "start_time": "2022-10-26T11:21:46.478Z"
   },
   {
    "duration": 758,
    "start_time": "2022-10-26T11:21:51.797Z"
   },
   {
    "duration": 6,
    "start_time": "2022-10-26T11:21:52.557Z"
   },
   {
    "duration": 12,
    "start_time": "2022-10-26T11:21:52.564Z"
   },
   {
    "duration": 23,
    "start_time": "2022-10-26T11:21:52.578Z"
   },
   {
    "duration": 0,
    "start_time": "2022-10-26T11:21:52.603Z"
   },
   {
    "duration": 0,
    "start_time": "2022-10-26T11:21:52.604Z"
   },
   {
    "duration": 0,
    "start_time": "2022-10-26T11:21:52.606Z"
   },
   {
    "duration": 0,
    "start_time": "2022-10-26T11:21:52.607Z"
   },
   {
    "duration": 0,
    "start_time": "2022-10-26T11:21:52.609Z"
   },
   {
    "duration": 0,
    "start_time": "2022-10-26T11:21:52.610Z"
   },
   {
    "duration": 0,
    "start_time": "2022-10-26T11:21:52.611Z"
   },
   {
    "duration": 0,
    "start_time": "2022-10-26T11:21:52.633Z"
   },
   {
    "duration": 0,
    "start_time": "2022-10-26T11:21:52.634Z"
   },
   {
    "duration": 0,
    "start_time": "2022-10-26T11:21:52.636Z"
   },
   {
    "duration": 0,
    "start_time": "2022-10-26T11:21:52.637Z"
   },
   {
    "duration": 0,
    "start_time": "2022-10-26T11:21:52.640Z"
   },
   {
    "duration": 5,
    "start_time": "2022-10-26T11:26:48.016Z"
   },
   {
    "duration": 2,
    "start_time": "2022-10-26T11:26:59.583Z"
   },
   {
    "duration": 6,
    "start_time": "2022-10-26T11:26:59.589Z"
   },
   {
    "duration": 9,
    "start_time": "2022-10-26T11:26:59.597Z"
   },
   {
    "duration": 47,
    "start_time": "2022-10-26T11:26:59.608Z"
   },
   {
    "duration": 3,
    "start_time": "2022-10-26T11:26:59.656Z"
   },
   {
    "duration": 15,
    "start_time": "2022-10-26T11:26:59.660Z"
   },
   {
    "duration": 13,
    "start_time": "2022-10-26T11:26:59.677Z"
   },
   {
    "duration": 14,
    "start_time": "2022-10-26T11:26:59.692Z"
   },
   {
    "duration": 6,
    "start_time": "2022-10-26T11:26:59.708Z"
   },
   {
    "duration": 5,
    "start_time": "2022-10-26T11:26:59.733Z"
   },
   {
    "duration": 14,
    "start_time": "2022-10-26T11:26:59.740Z"
   },
   {
    "duration": 12,
    "start_time": "2022-10-26T11:26:59.756Z"
   },
   {
    "duration": 4,
    "start_time": "2022-10-26T11:26:59.770Z"
   },
   {
    "duration": 13,
    "start_time": "2022-10-26T11:26:59.775Z"
   },
   {
    "duration": 4,
    "start_time": "2022-10-26T11:26:59.790Z"
   },
   {
    "duration": 7,
    "start_time": "2022-10-26T11:26:59.795Z"
   },
   {
    "duration": 35,
    "start_time": "2022-10-26T11:26:59.803Z"
   },
   {
    "duration": 6,
    "start_time": "2022-10-26T11:26:59.840Z"
   },
   {
    "duration": 11,
    "start_time": "2022-10-26T11:26:59.848Z"
   },
   {
    "duration": 11,
    "start_time": "2022-10-26T11:26:59.860Z"
   },
   {
    "duration": 3,
    "start_time": "2022-10-26T11:26:59.872Z"
   },
   {
    "duration": 13,
    "start_time": "2022-10-26T11:26:59.876Z"
   },
   {
    "duration": 15,
    "start_time": "2022-10-26T11:26:59.891Z"
   },
   {
    "duration": 32,
    "start_time": "2022-10-26T11:26:59.908Z"
   },
   {
    "duration": 11,
    "start_time": "2022-10-26T11:26:59.943Z"
   },
   {
    "duration": 5,
    "start_time": "2022-10-26T11:26:59.955Z"
   },
   {
    "duration": 9,
    "start_time": "2022-10-26T11:26:59.962Z"
   },
   {
    "duration": 7,
    "start_time": "2022-10-26T11:26:59.972Z"
   },
   {
    "duration": 6,
    "start_time": "2022-10-26T11:26:59.981Z"
   },
   {
    "duration": 13,
    "start_time": "2022-10-26T11:26:59.988Z"
   },
   {
    "duration": 29,
    "start_time": "2022-10-26T11:27:00.003Z"
   },
   {
    "duration": 24,
    "start_time": "2022-10-26T11:27:00.034Z"
   },
   {
    "duration": 176,
    "start_time": "2022-10-26T11:27:00.060Z"
   },
   {
    "duration": 23,
    "start_time": "2022-10-26T11:27:00.237Z"
   },
   {
    "duration": 73,
    "start_time": "2022-10-26T11:27:00.263Z"
   },
   {
    "duration": 96,
    "start_time": "2022-10-26T11:27:00.338Z"
   },
   {
    "duration": 122,
    "start_time": "2022-10-26T11:27:00.436Z"
   },
   {
    "duration": 3,
    "start_time": "2022-10-26T11:27:00.560Z"
   },
   {
    "duration": 32,
    "start_time": "2022-10-26T11:27:00.564Z"
   },
   {
    "duration": 61,
    "start_time": "2022-10-26T11:27:00.598Z"
   },
   {
    "duration": 57614,
    "start_time": "2022-10-26T11:27:00.660Z"
   },
   {
    "duration": 3,
    "start_time": "2022-10-26T11:27:58.276Z"
   },
   {
    "duration": 10,
    "start_time": "2022-10-26T11:27:58.281Z"
   },
   {
    "duration": 6,
    "start_time": "2022-10-26T11:27:58.292Z"
   },
   {
    "duration": 5201,
    "start_time": "2022-10-26T11:27:58.299Z"
   },
   {
    "duration": 606,
    "start_time": "2022-10-26T11:28:03.502Z"
   },
   {
    "duration": 5,
    "start_time": "2022-10-26T11:28:04.110Z"
   },
   {
    "duration": 29,
    "start_time": "2022-10-26T11:28:04.117Z"
   },
   {
    "duration": 5,
    "start_time": "2022-10-26T11:28:04.149Z"
   },
   {
    "duration": 9,
    "start_time": "2022-10-26T11:28:04.155Z"
   },
   {
    "duration": 11,
    "start_time": "2022-10-26T11:28:04.166Z"
   },
   {
    "duration": 18,
    "start_time": "2022-10-26T11:28:04.178Z"
   },
   {
    "duration": 10,
    "start_time": "2022-10-26T11:28:04.198Z"
   },
   {
    "duration": 9,
    "start_time": "2022-10-26T11:28:04.209Z"
   },
   {
    "duration": 8,
    "start_time": "2022-10-26T11:28:04.220Z"
   },
   {
    "duration": 17,
    "start_time": "2022-10-26T11:28:04.229Z"
   },
   {
    "duration": 10,
    "start_time": "2022-10-26T11:28:04.249Z"
   },
   {
    "duration": 3,
    "start_time": "2022-10-26T11:28:04.262Z"
   },
   {
    "duration": 11,
    "start_time": "2022-10-26T11:28:04.267Z"
   },
   {
    "duration": 0,
    "start_time": "2022-10-26T11:28:04.279Z"
   },
   {
    "duration": 0,
    "start_time": "2022-10-26T11:28:04.281Z"
   },
   {
    "duration": 21,
    "start_time": "2022-10-26T11:29:09.279Z"
   },
   {
    "duration": 12,
    "start_time": "2022-10-26T11:29:12.100Z"
   },
   {
    "duration": 6,
    "start_time": "2022-10-26T11:29:13.318Z"
   },
   {
    "duration": 10,
    "start_time": "2022-10-26T11:29:17.358Z"
   },
   {
    "duration": 151,
    "start_time": "2022-10-26T11:31:30.105Z"
   },
   {
    "duration": 3,
    "start_time": "2022-10-26T11:31:30.605Z"
   },
   {
    "duration": 4,
    "start_time": "2022-10-26T11:31:31.271Z"
   },
   {
    "duration": 25,
    "start_time": "2022-10-26T11:32:01.309Z"
   },
   {
    "duration": 79053,
    "start_time": "2022-10-26T11:45:28.548Z"
   },
   {
    "duration": 4,
    "start_time": "2022-10-26T11:46:53.557Z"
   },
   {
    "duration": 3,
    "start_time": "2022-10-26T11:46:54.194Z"
   },
   {
    "duration": 3,
    "start_time": "2022-10-26T11:46:57.523Z"
   },
   {
    "duration": 2930,
    "start_time": "2022-10-26T11:48:35.916Z"
   },
   {
    "duration": 46,
    "start_time": "2022-10-26T13:58:40.629Z"
   },
   {
    "duration": 4,
    "start_time": "2022-10-26T13:59:01.301Z"
   },
   {
    "duration": 15,
    "start_time": "2022-10-26T13:59:01.307Z"
   },
   {
    "duration": 1538,
    "start_time": "2022-10-26T13:59:01.324Z"
   },
   {
    "duration": 164,
    "start_time": "2022-10-26T13:59:02.864Z"
   },
   {
    "duration": 2,
    "start_time": "2022-10-26T13:59:03.029Z"
   },
   {
    "duration": 20,
    "start_time": "2022-10-26T13:59:03.032Z"
   },
   {
    "duration": 17,
    "start_time": "2022-10-26T13:59:03.053Z"
   },
   {
    "duration": 4,
    "start_time": "2022-10-26T13:59:03.072Z"
   },
   {
    "duration": 14,
    "start_time": "2022-10-26T13:59:03.079Z"
   },
   {
    "duration": 8,
    "start_time": "2022-10-26T13:59:03.095Z"
   },
   {
    "duration": 16,
    "start_time": "2022-10-26T13:59:03.105Z"
   },
   {
    "duration": 7,
    "start_time": "2022-10-26T13:59:03.123Z"
   },
   {
    "duration": 6,
    "start_time": "2022-10-26T13:59:03.132Z"
   },
   {
    "duration": 14,
    "start_time": "2022-10-26T13:59:03.140Z"
   },
   {
    "duration": 26,
    "start_time": "2022-10-26T13:59:03.156Z"
   },
   {
    "duration": 19,
    "start_time": "2022-10-26T13:59:03.184Z"
   },
   {
    "duration": 13,
    "start_time": "2022-10-26T13:59:03.205Z"
   },
   {
    "duration": 9,
    "start_time": "2022-10-26T13:59:03.220Z"
   },
   {
    "duration": 11,
    "start_time": "2022-10-26T13:59:03.231Z"
   },
   {
    "duration": 13,
    "start_time": "2022-10-26T13:59:03.244Z"
   },
   {
    "duration": 2,
    "start_time": "2022-10-26T13:59:03.259Z"
   },
   {
    "duration": 9,
    "start_time": "2022-10-26T13:59:03.263Z"
   },
   {
    "duration": 19,
    "start_time": "2022-10-26T13:59:03.273Z"
   },
   {
    "duration": 28,
    "start_time": "2022-10-26T13:59:03.298Z"
   },
   {
    "duration": 14,
    "start_time": "2022-10-26T13:59:03.328Z"
   },
   {
    "duration": 15,
    "start_time": "2022-10-26T13:59:03.344Z"
   },
   {
    "duration": 20,
    "start_time": "2022-10-26T13:59:03.361Z"
   },
   {
    "duration": 7,
    "start_time": "2022-10-26T13:59:03.383Z"
   },
   {
    "duration": 16,
    "start_time": "2022-10-26T13:59:03.392Z"
   },
   {
    "duration": 7,
    "start_time": "2022-10-26T13:59:03.409Z"
   },
   {
    "duration": 21,
    "start_time": "2022-10-26T13:59:03.417Z"
   },
   {
    "duration": 17,
    "start_time": "2022-10-26T13:59:03.440Z"
   },
   {
    "duration": 101,
    "start_time": "2022-10-26T13:59:03.522Z"
   },
   {
    "duration": 14,
    "start_time": "2022-10-26T13:59:03.624Z"
   },
   {
    "duration": 83,
    "start_time": "2022-10-26T13:59:03.640Z"
   },
   {
    "duration": 109,
    "start_time": "2022-10-26T13:59:03.725Z"
   },
   {
    "duration": 107,
    "start_time": "2022-10-26T13:59:03.835Z"
   },
   {
    "duration": 4,
    "start_time": "2022-10-26T13:59:03.943Z"
   },
   {
    "duration": 8,
    "start_time": "2022-10-26T13:59:03.948Z"
   },
   {
    "duration": 26,
    "start_time": "2022-10-26T13:59:03.958Z"
   },
   {
    "duration": 53914,
    "start_time": "2022-10-26T13:59:03.986Z"
   },
   {
    "duration": 3,
    "start_time": "2022-10-26T13:59:57.902Z"
   },
   {
    "duration": 15,
    "start_time": "2022-10-26T13:59:57.907Z"
   },
   {
    "duration": 3,
    "start_time": "2022-10-26T13:59:57.923Z"
   },
   {
    "duration": 4798,
    "start_time": "2022-10-26T13:59:57.928Z"
   },
   {
    "duration": 567,
    "start_time": "2022-10-26T14:00:02.727Z"
   },
   {
    "duration": 6,
    "start_time": "2022-10-26T14:00:03.295Z"
   },
   {
    "duration": 158,
    "start_time": "2022-10-26T14:00:03.303Z"
   },
   {
    "duration": 124,
    "start_time": "2022-10-26T14:00:03.462Z"
   },
   {
    "duration": 50,
    "start_time": "2022-10-26T14:00:03.588Z"
   },
   {
    "duration": 13,
    "start_time": "2022-10-26T14:00:03.640Z"
   },
   {
    "duration": 36,
    "start_time": "2022-10-26T14:00:03.655Z"
   },
   {
    "duration": 19,
    "start_time": "2022-10-26T14:00:03.693Z"
   },
   {
    "duration": 20,
    "start_time": "2022-10-26T14:00:03.714Z"
   },
   {
    "duration": 29,
    "start_time": "2022-10-26T14:00:03.736Z"
   },
   {
    "duration": 23,
    "start_time": "2022-10-26T14:00:03.767Z"
   },
   {
    "duration": 23,
    "start_time": "2022-10-26T14:00:03.792Z"
   },
   {
    "duration": 12,
    "start_time": "2022-10-26T14:00:03.816Z"
   },
   {
    "duration": 26,
    "start_time": "2022-10-26T14:00:03.830Z"
   },
   {
    "duration": 65,
    "start_time": "2022-10-26T14:00:03.857Z"
   },
   {
    "duration": 6,
    "start_time": "2022-10-26T14:00:03.924Z"
   },
   {
    "duration": 111,
    "start_time": "2022-10-26T14:00:03.932Z"
   },
   {
    "duration": 310,
    "start_time": "2022-10-26T14:00:04.045Z"
   },
   {
    "duration": 3,
    "start_time": "2022-10-26T14:00:04.357Z"
   },
   {
    "duration": 49,
    "start_time": "2022-10-26T14:00:04.362Z"
   },
   {
    "duration": 28,
    "start_time": "2022-10-26T14:00:04.413Z"
   },
   {
    "duration": 72195,
    "start_time": "2022-10-26T14:00:04.443Z"
   },
   {
    "duration": 5,
    "start_time": "2022-10-26T14:01:16.639Z"
   },
   {
    "duration": 17,
    "start_time": "2022-10-26T14:01:16.648Z"
   },
   {
    "duration": 9,
    "start_time": "2022-10-26T14:01:16.667Z"
   },
   {
    "duration": 2656,
    "start_time": "2022-10-26T14:01:16.677Z"
   },
   {
    "duration": 10,
    "start_time": "2022-10-26T14:01:49.364Z"
   },
   {
    "duration": 7,
    "start_time": "2022-10-26T14:02:08.581Z"
   },
   {
    "duration": 7,
    "start_time": "2022-10-26T14:02:09.556Z"
   },
   {
    "duration": 8,
    "start_time": "2022-10-26T14:02:40.214Z"
   },
   {
    "duration": 5,
    "start_time": "2022-10-26T14:02:41.893Z"
   },
   {
    "duration": 6,
    "start_time": "2022-10-26T14:02:42.597Z"
   },
   {
    "duration": 3,
    "start_time": "2022-10-26T14:04:04.330Z"
   },
   {
    "duration": 10,
    "start_time": "2022-10-26T14:04:04.885Z"
   },
   {
    "duration": 3,
    "start_time": "2022-10-26T14:04:27.766Z"
   },
   {
    "duration": 7,
    "start_time": "2022-10-26T14:04:41.974Z"
   },
   {
    "duration": 6,
    "start_time": "2022-10-26T14:05:03.862Z"
   },
   {
    "duration": 11,
    "start_time": "2022-10-26T14:05:30.359Z"
   },
   {
    "duration": 34352,
    "start_time": "2022-10-26T14:14:36.233Z"
   },
   {
    "duration": 3,
    "start_time": "2022-10-26T14:16:23.469Z"
   },
   {
    "duration": 3,
    "start_time": "2022-10-26T14:16:24.317Z"
   },
   {
    "duration": 3,
    "start_time": "2022-10-26T14:16:25.196Z"
   },
   {
    "duration": 333,
    "start_time": "2022-10-26T14:16:29.613Z"
   },
   {
    "duration": 89,
    "start_time": "2022-10-26T14:17:09.582Z"
   },
   {
    "duration": 4,
    "start_time": "2022-10-26T14:17:12.445Z"
   },
   {
    "duration": 4,
    "start_time": "2022-10-26T14:17:12.846Z"
   },
   {
    "duration": 17,
    "start_time": "2022-10-26T14:17:34.080Z"
   },
   {
    "duration": 2501,
    "start_time": "2022-10-26T14:23:59.664Z"
   },
   {
    "duration": 152,
    "start_time": "2022-10-26T14:24:05.200Z"
   },
   {
    "duration": 7,
    "start_time": "2022-10-26T14:24:06.960Z"
   },
   {
    "duration": 141,
    "start_time": "2022-10-26T14:24:08.401Z"
   },
   {
    "duration": 4,
    "start_time": "2022-10-26T14:34:48.204Z"
   },
   {
    "duration": 7,
    "start_time": "2022-10-26T14:34:48.210Z"
   },
   {
    "duration": 1399,
    "start_time": "2022-10-26T14:34:48.219Z"
   },
   {
    "duration": 39,
    "start_time": "2022-10-26T14:34:49.621Z"
   },
   {
    "duration": 3,
    "start_time": "2022-10-26T14:34:49.662Z"
   },
   {
    "duration": 17,
    "start_time": "2022-10-26T14:34:49.666Z"
   },
   {
    "duration": 19,
    "start_time": "2022-10-26T14:34:49.684Z"
   },
   {
    "duration": 5,
    "start_time": "2022-10-26T14:34:49.704Z"
   },
   {
    "duration": 7,
    "start_time": "2022-10-26T14:34:49.711Z"
   },
   {
    "duration": 5,
    "start_time": "2022-10-26T14:34:49.721Z"
   },
   {
    "duration": 6,
    "start_time": "2022-10-26T14:34:49.727Z"
   },
   {
    "duration": 7,
    "start_time": "2022-10-26T14:34:49.735Z"
   },
   {
    "duration": 6,
    "start_time": "2022-10-26T14:34:49.743Z"
   },
   {
    "duration": 14,
    "start_time": "2022-10-26T14:34:49.750Z"
   },
   {
    "duration": 5,
    "start_time": "2022-10-26T14:34:49.765Z"
   },
   {
    "duration": 10,
    "start_time": "2022-10-26T14:34:49.771Z"
   },
   {
    "duration": 8,
    "start_time": "2022-10-26T14:34:49.782Z"
   },
   {
    "duration": 38,
    "start_time": "2022-10-26T14:34:49.791Z"
   },
   {
    "duration": 15,
    "start_time": "2022-10-26T14:34:49.832Z"
   },
   {
    "duration": 17,
    "start_time": "2022-10-26T14:34:49.849Z"
   },
   {
    "duration": 5,
    "start_time": "2022-10-26T14:34:49.868Z"
   },
   {
    "duration": 8,
    "start_time": "2022-10-26T14:34:49.875Z"
   },
   {
    "duration": 14,
    "start_time": "2022-10-26T14:34:49.884Z"
   },
   {
    "duration": 24,
    "start_time": "2022-10-26T14:34:49.903Z"
   },
   {
    "duration": 13,
    "start_time": "2022-10-26T14:34:49.928Z"
   },
   {
    "duration": 4,
    "start_time": "2022-10-26T14:34:49.943Z"
   },
   {
    "duration": 8,
    "start_time": "2022-10-26T14:34:49.949Z"
   },
   {
    "duration": 8,
    "start_time": "2022-10-26T14:34:49.959Z"
   },
   {
    "duration": 6,
    "start_time": "2022-10-26T14:34:49.969Z"
   },
   {
    "duration": 5,
    "start_time": "2022-10-26T14:34:49.976Z"
   },
   {
    "duration": 40,
    "start_time": "2022-10-26T14:34:49.983Z"
   },
   {
    "duration": 6,
    "start_time": "2022-10-26T14:34:50.025Z"
   },
   {
    "duration": 93,
    "start_time": "2022-10-26T14:34:50.033Z"
   },
   {
    "duration": 97,
    "start_time": "2022-10-26T14:34:50.128Z"
   },
   {
    "duration": 202,
    "start_time": "2022-10-26T14:34:50.227Z"
   },
   {
    "duration": 9,
    "start_time": "2022-10-26T14:34:50.431Z"
   },
   {
    "duration": 114,
    "start_time": "2022-10-26T14:34:50.442Z"
   },
   {
    "duration": 5,
    "start_time": "2022-10-26T14:34:50.558Z"
   },
   {
    "duration": 9,
    "start_time": "2022-10-26T14:34:50.565Z"
   },
   {
    "duration": 45,
    "start_time": "2022-10-26T14:34:50.575Z"
   },
   {
    "duration": 52418,
    "start_time": "2022-10-26T14:34:50.621Z"
   },
   {
    "duration": 4,
    "start_time": "2022-10-26T14:35:43.040Z"
   },
   {
    "duration": 7,
    "start_time": "2022-10-26T14:35:43.045Z"
   },
   {
    "duration": 7,
    "start_time": "2022-10-26T14:35:43.054Z"
   },
   {
    "duration": 4693,
    "start_time": "2022-10-26T14:35:43.062Z"
   },
   {
    "duration": 554,
    "start_time": "2022-10-26T14:35:47.756Z"
   },
   {
    "duration": 11,
    "start_time": "2022-10-26T14:35:48.311Z"
   },
   {
    "duration": 4,
    "start_time": "2022-10-26T14:35:48.323Z"
   },
   {
    "duration": 8,
    "start_time": "2022-10-26T14:35:48.329Z"
   },
   {
    "duration": 6,
    "start_time": "2022-10-26T14:35:48.338Z"
   },
   {
    "duration": 8,
    "start_time": "2022-10-26T14:35:48.345Z"
   },
   {
    "duration": 5,
    "start_time": "2022-10-26T14:35:48.354Z"
   },
   {
    "duration": 7,
    "start_time": "2022-10-26T14:35:48.360Z"
   },
   {
    "duration": 5,
    "start_time": "2022-10-26T14:35:48.368Z"
   },
   {
    "duration": 6,
    "start_time": "2022-10-26T14:35:48.375Z"
   },
   {
    "duration": 15,
    "start_time": "2022-10-26T14:35:48.383Z"
   },
   {
    "duration": 8,
    "start_time": "2022-10-26T14:35:48.399Z"
   },
   {
    "duration": 3,
    "start_time": "2022-10-26T14:35:48.422Z"
   },
   {
    "duration": 23,
    "start_time": "2022-10-26T14:35:48.426Z"
   },
   {
    "duration": 7,
    "start_time": "2022-10-26T14:35:48.450Z"
   },
   {
    "duration": 75,
    "start_time": "2022-10-26T14:35:48.459Z"
   },
   {
    "duration": 100,
    "start_time": "2022-10-26T14:35:48.535Z"
   },
   {
    "duration": 325,
    "start_time": "2022-10-26T14:35:48.637Z"
   },
   {
    "duration": 14,
    "start_time": "2022-10-26T14:35:48.964Z"
   },
   {
    "duration": 18,
    "start_time": "2022-10-26T14:35:48.984Z"
   },
   {
    "duration": 30,
    "start_time": "2022-10-26T14:35:49.004Z"
   },
   {
    "duration": 71946,
    "start_time": "2022-10-26T14:35:49.036Z"
   },
   {
    "duration": 3,
    "start_time": "2022-10-26T14:37:00.984Z"
   },
   {
    "duration": 56,
    "start_time": "2022-10-26T14:37:00.993Z"
   },
   {
    "duration": 15,
    "start_time": "2022-10-26T14:37:01.051Z"
   },
   {
    "duration": 2686,
    "start_time": "2022-10-26T14:37:01.067Z"
   },
   {
    "duration": 8,
    "start_time": "2022-10-26T14:37:03.755Z"
   },
   {
    "duration": 21,
    "start_time": "2022-10-26T14:37:03.765Z"
   },
   {
    "duration": 12,
    "start_time": "2022-10-26T14:37:03.788Z"
   },
   {
    "duration": 31,
    "start_time": "2022-10-26T14:37:03.801Z"
   },
   {
    "duration": 26,
    "start_time": "2022-10-26T14:37:03.834Z"
   },
   {
    "duration": 20,
    "start_time": "2022-10-26T14:37:03.861Z"
   },
   {
    "duration": 50,
    "start_time": "2022-10-26T14:37:03.882Z"
   },
   {
    "duration": 106,
    "start_time": "2022-10-26T14:37:03.933Z"
   },
   {
    "duration": 236,
    "start_time": "2022-10-26T14:37:04.040Z"
   },
   {
    "duration": 4,
    "start_time": "2022-10-26T14:37:04.278Z"
   },
   {
    "duration": 7,
    "start_time": "2022-10-26T14:37:04.284Z"
   },
   {
    "duration": 42,
    "start_time": "2022-10-26T14:37:04.292Z"
   },
   {
    "duration": 34250,
    "start_time": "2022-10-26T14:37:04.336Z"
   },
   {
    "duration": 4,
    "start_time": "2022-10-26T14:37:38.587Z"
   },
   {
    "duration": 8,
    "start_time": "2022-10-26T14:37:38.592Z"
   },
   {
    "duration": 6,
    "start_time": "2022-10-26T14:37:38.602Z"
   },
   {
    "duration": 312,
    "start_time": "2022-10-26T14:37:38.622Z"
   },
   {
    "duration": 2504,
    "start_time": "2022-10-26T14:37:38.936Z"
   },
   {
    "duration": 179,
    "start_time": "2022-10-26T14:37:41.442Z"
   },
   {
    "duration": 8,
    "start_time": "2022-10-26T14:37:41.623Z"
   },
   {
    "duration": 170,
    "start_time": "2022-10-26T14:37:41.633Z"
   }
  ],
  "kernelspec": {
   "display_name": "Python 3 (ipykernel)",
   "language": "python",
   "name": "python3"
  },
  "language_info": {
   "codemirror_mode": {
    "name": "ipython",
    "version": 3
   },
   "file_extension": ".py",
   "mimetype": "text/x-python",
   "name": "python",
   "nbconvert_exporter": "python",
   "pygments_lexer": "ipython3",
   "version": "3.9.12"
  },
  "toc": {
   "base_numbering": 1,
   "nav_menu": {},
   "number_sections": true,
   "sideBar": true,
   "skip_h1_title": true,
   "title_cell": "Содержание",
   "title_sidebar": "Contents",
   "toc_cell": true,
   "toc_position": {
    "height": "calc(100% - 180px)",
    "left": "10px",
    "top": "150px",
    "width": "275.038px"
   },
   "toc_section_display": true,
   "toc_window_display": true
  }
 },
 "nbformat": 4,
 "nbformat_minor": 2
}
